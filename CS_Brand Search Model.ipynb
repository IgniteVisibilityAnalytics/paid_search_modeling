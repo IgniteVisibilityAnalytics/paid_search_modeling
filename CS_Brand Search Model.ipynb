{
 "cells": [
  {
   "cell_type": "code",
   "execution_count": 1,
   "metadata": {
    "ExecuteTime": {
     "end_time": "2021-02-19T18:46:46.758264Z",
     "start_time": "2021-02-19T18:46:41.888485Z"
    }
   },
   "outputs": [],
   "source": [
    "import pandas as pd\n",
    "import numpy as np\n",
    "from scipy.stats import pearsonr\n",
    "import seaborn as sns"
   ]
  },
  {
   "cell_type": "code",
   "execution_count": 2,
   "metadata": {
    "ExecuteTime": {
     "end_time": "2021-02-19T18:46:49.159532Z",
     "start_time": "2021-02-19T18:46:49.153553Z"
    }
   },
   "outputs": [],
   "source": [
    "import matplotlib.pyplot as plt"
   ]
  },
  {
   "cell_type": "code",
   "execution_count": 3,
   "metadata": {
    "ExecuteTime": {
     "end_time": "2021-02-19T18:47:19.624839Z",
     "start_time": "2021-02-19T18:47:19.594900Z"
    }
   },
   "outputs": [],
   "source": [
    "df = pd.read_csv('historical-non_brand_search.csv')"
   ]
  },
  {
   "cell_type": "code",
   "execution_count": 5,
   "metadata": {
    "ExecuteTime": {
     "end_time": "2021-02-19T18:47:30.900390Z",
     "start_time": "2021-02-19T18:47:30.834621Z"
    }
   },
   "outputs": [
    {
     "data": {
      "text/html": [
       "<div>\n",
       "<style scoped>\n",
       "    .dataframe tbody tr th:only-of-type {\n",
       "        vertical-align: middle;\n",
       "    }\n",
       "\n",
       "    .dataframe tbody tr th {\n",
       "        vertical-align: top;\n",
       "    }\n",
       "\n",
       "    .dataframe thead th {\n",
       "        text-align: right;\n",
       "    }\n",
       "</style>\n",
       "<table border=\"1\" class=\"dataframe\">\n",
       "  <thead>\n",
       "    <tr style=\"text-align: right;\">\n",
       "      <th></th>\n",
       "      <th>Cost</th>\n",
       "      <th>Quotes</th>\n",
       "      <th>Sales</th>\n",
       "      <th>CPQ</th>\n",
       "      <th>CPS</th>\n",
       "      <th>CPC</th>\n",
       "    </tr>\n",
       "  </thead>\n",
       "  <tbody>\n",
       "    <tr>\n",
       "      <th>count</th>\n",
       "      <td>79.000000</td>\n",
       "      <td>79.000000</td>\n",
       "      <td>79.000000</td>\n",
       "      <td>79.000000</td>\n",
       "      <td>79.000000</td>\n",
       "      <td>79.000000</td>\n",
       "    </tr>\n",
       "    <tr>\n",
       "      <th>mean</th>\n",
       "      <td>193643.103544</td>\n",
       "      <td>3169.683544</td>\n",
       "      <td>226.164557</td>\n",
       "      <td>50.445551</td>\n",
       "      <td>714.612948</td>\n",
       "      <td>21.997468</td>\n",
       "    </tr>\n",
       "    <tr>\n",
       "      <th>std</th>\n",
       "      <td>146283.559427</td>\n",
       "      <td>2023.391932</td>\n",
       "      <td>143.596249</td>\n",
       "      <td>20.888178</td>\n",
       "      <td>328.622873</td>\n",
       "      <td>10.862459</td>\n",
       "    </tr>\n",
       "    <tr>\n",
       "      <th>min</th>\n",
       "      <td>0.000000</td>\n",
       "      <td>2.000000</td>\n",
       "      <td>1.000000</td>\n",
       "      <td>0.000000</td>\n",
       "      <td>0.000000</td>\n",
       "      <td>0.000000</td>\n",
       "    </tr>\n",
       "    <tr>\n",
       "      <th>25%</th>\n",
       "      <td>44715.285000</td>\n",
       "      <td>1239.000000</td>\n",
       "      <td>89.000000</td>\n",
       "      <td>37.014637</td>\n",
       "      <td>473.752772</td>\n",
       "      <td>12.800000</td>\n",
       "    </tr>\n",
       "    <tr>\n",
       "      <th>50%</th>\n",
       "      <td>197840.280000</td>\n",
       "      <td>3609.000000</td>\n",
       "      <td>273.000000</td>\n",
       "      <td>56.580129</td>\n",
       "      <td>763.178385</td>\n",
       "      <td>23.280000</td>\n",
       "    </tr>\n",
       "    <tr>\n",
       "      <th>75%</th>\n",
       "      <td>322111.345000</td>\n",
       "      <td>4938.000000</td>\n",
       "      <td>348.000000</td>\n",
       "      <td>66.539326</td>\n",
       "      <td>993.108194</td>\n",
       "      <td>31.765000</td>\n",
       "    </tr>\n",
       "    <tr>\n",
       "      <th>max</th>\n",
       "      <td>454271.660000</td>\n",
       "      <td>6809.000000</td>\n",
       "      <td>513.000000</td>\n",
       "      <td>90.630828</td>\n",
       "      <td>1297.971957</td>\n",
       "      <td>37.290000</td>\n",
       "    </tr>\n",
       "  </tbody>\n",
       "</table>\n",
       "</div>"
      ],
      "text/plain": [
       "                Cost       Quotes       Sales        CPQ          CPS  \\\n",
       "count      79.000000    79.000000   79.000000  79.000000    79.000000   \n",
       "mean   193643.103544  3169.683544  226.164557  50.445551   714.612948   \n",
       "std    146283.559427  2023.391932  143.596249  20.888178   328.622873   \n",
       "min         0.000000     2.000000    1.000000   0.000000     0.000000   \n",
       "25%     44715.285000  1239.000000   89.000000  37.014637   473.752772   \n",
       "50%    197840.280000  3609.000000  273.000000  56.580129   763.178385   \n",
       "75%    322111.345000  4938.000000  348.000000  66.539326   993.108194   \n",
       "max    454271.660000  6809.000000  513.000000  90.630828  1297.971957   \n",
       "\n",
       "             CPC  \n",
       "count  79.000000  \n",
       "mean   21.997468  \n",
       "std    10.862459  \n",
       "min     0.000000  \n",
       "25%    12.800000  \n",
       "50%    23.280000  \n",
       "75%    31.765000  \n",
       "max    37.290000  "
      ]
     },
     "execution_count": 5,
     "metadata": {},
     "output_type": "execute_result"
    }
   ],
   "source": [
    "df.describe()"
   ]
  },
  {
   "cell_type": "code",
   "execution_count": 6,
   "metadata": {
    "ExecuteTime": {
     "end_time": "2021-02-19T18:48:15.186602Z",
     "start_time": "2021-02-19T18:48:15.124810Z"
    }
   },
   "outputs": [],
   "source": [
    "df['clicks']=df['Cost']/df['CPC']"
   ]
  },
  {
   "cell_type": "code",
   "execution_count": 7,
   "metadata": {
    "ExecuteTime": {
     "end_time": "2021-02-19T18:49:08.279333Z",
     "start_time": "2021-02-19T18:49:08.262334Z"
    }
   },
   "outputs": [
    {
     "data": {
      "text/plain": [
       "Week       object\n",
       "Cost      float64\n",
       "Quotes      int64\n",
       "Sales       int64\n",
       "CPQ       float64\n",
       "CPS       float64\n",
       "CPC       float64\n",
       "clicks    float64\n",
       "dtype: object"
      ]
     },
     "execution_count": 7,
     "metadata": {},
     "output_type": "execute_result"
    }
   ],
   "source": [
    "df.dtypes"
   ]
  },
  {
   "cell_type": "code",
   "execution_count": 8,
   "metadata": {
    "ExecuteTime": {
     "end_time": "2021-02-19T19:05:32.021292Z",
     "start_time": "2021-02-19T19:05:32.000372Z"
    }
   },
   "outputs": [
    {
     "data": {
      "text/html": [
       "<div>\n",
       "<style scoped>\n",
       "    .dataframe tbody tr th:only-of-type {\n",
       "        vertical-align: middle;\n",
       "    }\n",
       "\n",
       "    .dataframe tbody tr th {\n",
       "        vertical-align: top;\n",
       "    }\n",
       "\n",
       "    .dataframe thead th {\n",
       "        text-align: right;\n",
       "    }\n",
       "</style>\n",
       "<table border=\"1\" class=\"dataframe\">\n",
       "  <thead>\n",
       "    <tr style=\"text-align: right;\">\n",
       "      <th></th>\n",
       "      <th>Cost</th>\n",
       "      <th>Quotes</th>\n",
       "      <th>Sales</th>\n",
       "      <th>CPQ</th>\n",
       "      <th>CPS</th>\n",
       "      <th>CPC</th>\n",
       "      <th>clicks</th>\n",
       "    </tr>\n",
       "  </thead>\n",
       "  <tbody>\n",
       "    <tr>\n",
       "      <th>Cost</th>\n",
       "      <td>1.000000</td>\n",
       "      <td>0.982842</td>\n",
       "      <td>0.935732</td>\n",
       "      <td>0.839488</td>\n",
       "      <td>0.827154</td>\n",
       "      <td>0.815560</td>\n",
       "      <td>0.824691</td>\n",
       "    </tr>\n",
       "    <tr>\n",
       "      <th>Quotes</th>\n",
       "      <td>0.982842</td>\n",
       "      <td>1.000000</td>\n",
       "      <td>0.975583</td>\n",
       "      <td>0.808691</td>\n",
       "      <td>0.777096</td>\n",
       "      <td>0.819231</td>\n",
       "      <td>0.791531</td>\n",
       "    </tr>\n",
       "    <tr>\n",
       "      <th>Sales</th>\n",
       "      <td>0.935732</td>\n",
       "      <td>0.975583</td>\n",
       "      <td>1.000000</td>\n",
       "      <td>0.766345</td>\n",
       "      <td>0.687311</td>\n",
       "      <td>0.771187</td>\n",
       "      <td>0.770521</td>\n",
       "    </tr>\n",
       "    <tr>\n",
       "      <th>CPQ</th>\n",
       "      <td>0.839488</td>\n",
       "      <td>0.808691</td>\n",
       "      <td>0.766345</td>\n",
       "      <td>1.000000</td>\n",
       "      <td>0.963839</td>\n",
       "      <td>0.873987</td>\n",
       "      <td>0.710610</td>\n",
       "    </tr>\n",
       "    <tr>\n",
       "      <th>CPS</th>\n",
       "      <td>0.827154</td>\n",
       "      <td>0.777096</td>\n",
       "      <td>0.687311</td>\n",
       "      <td>0.963839</td>\n",
       "      <td>1.000000</td>\n",
       "      <td>0.876587</td>\n",
       "      <td>0.660716</td>\n",
       "    </tr>\n",
       "    <tr>\n",
       "      <th>CPC</th>\n",
       "      <td>0.815560</td>\n",
       "      <td>0.819231</td>\n",
       "      <td>0.771187</td>\n",
       "      <td>0.873987</td>\n",
       "      <td>0.876587</td>\n",
       "      <td>1.000000</td>\n",
       "      <td>0.422233</td>\n",
       "    </tr>\n",
       "    <tr>\n",
       "      <th>clicks</th>\n",
       "      <td>0.824691</td>\n",
       "      <td>0.791531</td>\n",
       "      <td>0.770521</td>\n",
       "      <td>0.710610</td>\n",
       "      <td>0.660716</td>\n",
       "      <td>0.422233</td>\n",
       "      <td>1.000000</td>\n",
       "    </tr>\n",
       "  </tbody>\n",
       "</table>\n",
       "</div>"
      ],
      "text/plain": [
       "            Cost    Quotes     Sales       CPQ       CPS       CPC    clicks\n",
       "Cost    1.000000  0.982842  0.935732  0.839488  0.827154  0.815560  0.824691\n",
       "Quotes  0.982842  1.000000  0.975583  0.808691  0.777096  0.819231  0.791531\n",
       "Sales   0.935732  0.975583  1.000000  0.766345  0.687311  0.771187  0.770521\n",
       "CPQ     0.839488  0.808691  0.766345  1.000000  0.963839  0.873987  0.710610\n",
       "CPS     0.827154  0.777096  0.687311  0.963839  1.000000  0.876587  0.660716\n",
       "CPC     0.815560  0.819231  0.771187  0.873987  0.876587  1.000000  0.422233\n",
       "clicks  0.824691  0.791531  0.770521  0.710610  0.660716  0.422233  1.000000"
      ]
     },
     "execution_count": 8,
     "metadata": {},
     "output_type": "execute_result"
    }
   ],
   "source": [
    "df.corr()"
   ]
  },
  {
   "cell_type": "code",
   "execution_count": null,
   "metadata": {},
   "outputs": [],
   "source": []
  },
  {
   "cell_type": "code",
   "execution_count": null,
   "metadata": {},
   "outputs": [],
   "source": []
  },
  {
   "cell_type": "code",
   "execution_count": 12,
   "metadata": {
    "ExecuteTime": {
     "end_time": "2021-02-19T19:52:05.065555Z",
     "start_time": "2021-02-19T19:52:05.049540Z"
    },
    "scrolled": true
   },
   "outputs": [
    {
     "data": {
      "text/plain": [
       "Date             object\n",
       "Cost            float64\n",
       "Impressions     float64\n",
       "Clicks          float64\n",
       "CPC             float64\n",
       "CTR             float64\n",
       "Close Rate      float64\n",
       "Quotes          float64\n",
       "Sales           float64\n",
       "CPQ             float64\n",
       "CPS             float64\n",
       "dtype: object"
      ]
     },
     "execution_count": 12,
     "metadata": {},
     "output_type": "execute_result"
    }
   ],
   "source": [
    "Brand_df.dtypbes"
   ]
  },
  {
   "cell_type": "code",
   "execution_count": 21,
   "metadata": {
    "ExecuteTime": {
     "end_time": "2021-02-19T21:24:28.827859Z",
     "start_time": "2021-02-19T21:24:28.805932Z"
    }
   },
   "outputs": [
    {
     "data": {
      "text/plain": [
       "<bound method IndexOpsMixin.tolist of Index(['Date', 'Cost', 'Impressions ', 'Clicks ', 'CPC ', 'CTR ',\n",
       "       'Close Rate ', 'Quotes ', 'Sales ', 'CPQ ', 'CPS '],\n",
       "      dtype='object')>"
      ]
     },
     "execution_count": 21,
     "metadata": {},
     "output_type": "execute_result"
    }
   ],
   "source": [
    "Brand_df.columns.tolist"
   ]
  },
  {
   "cell_type": "code",
   "execution_count": 13,
   "metadata": {
    "ExecuteTime": {
     "end_time": "2021-02-19T19:53:15.535896Z",
     "start_time": "2021-02-19T19:53:15.459287Z"
    }
   },
   "outputs": [
    {
     "data": {
      "text/html": [
       "<div>\n",
       "<style scoped>\n",
       "    .dataframe tbody tr th:only-of-type {\n",
       "        vertical-align: middle;\n",
       "    }\n",
       "\n",
       "    .dataframe tbody tr th {\n",
       "        vertical-align: top;\n",
       "    }\n",
       "\n",
       "    .dataframe thead th {\n",
       "        text-align: right;\n",
       "    }\n",
       "</style>\n",
       "<table border=\"1\" class=\"dataframe\">\n",
       "  <thead>\n",
       "    <tr style=\"text-align: right;\">\n",
       "      <th></th>\n",
       "      <th>Cost</th>\n",
       "      <th>Impressions</th>\n",
       "      <th>Clicks</th>\n",
       "      <th>CPC</th>\n",
       "      <th>CTR</th>\n",
       "      <th>Close Rate</th>\n",
       "      <th>Quotes</th>\n",
       "      <th>Sales</th>\n",
       "      <th>CPQ</th>\n",
       "      <th>CPS</th>\n",
       "    </tr>\n",
       "  </thead>\n",
       "  <tbody>\n",
       "    <tr>\n",
       "      <th>Cost</th>\n",
       "      <td>1.000000</td>\n",
       "      <td>0.511586</td>\n",
       "      <td>0.977325</td>\n",
       "      <td>0.862481</td>\n",
       "      <td>0.914536</td>\n",
       "      <td>0.062554</td>\n",
       "      <td>0.978734</td>\n",
       "      <td>0.962179</td>\n",
       "      <td>0.218729</td>\n",
       "      <td>-0.021277</td>\n",
       "    </tr>\n",
       "    <tr>\n",
       "      <th>Impressions</th>\n",
       "      <td>0.511586</td>\n",
       "      <td>1.000000</td>\n",
       "      <td>0.558816</td>\n",
       "      <td>0.227006</td>\n",
       "      <td>0.290754</td>\n",
       "      <td>0.133425</td>\n",
       "      <td>0.516362</td>\n",
       "      <td>0.531055</td>\n",
       "      <td>0.252967</td>\n",
       "      <td>-0.067009</td>\n",
       "    </tr>\n",
       "    <tr>\n",
       "      <th>Clicks</th>\n",
       "      <td>0.977325</td>\n",
       "      <td>0.558816</td>\n",
       "      <td>1.000000</td>\n",
       "      <td>0.765388</td>\n",
       "      <td>0.904367</td>\n",
       "      <td>0.077209</td>\n",
       "      <td>0.994642</td>\n",
       "      <td>0.980469</td>\n",
       "      <td>0.098092</td>\n",
       "      <td>-0.091896</td>\n",
       "    </tr>\n",
       "    <tr>\n",
       "      <th>CPC</th>\n",
       "      <td>0.862481</td>\n",
       "      <td>0.227006</td>\n",
       "      <td>0.765388</td>\n",
       "      <td>1.000000</td>\n",
       "      <td>0.879905</td>\n",
       "      <td>-0.065878</td>\n",
       "      <td>0.800151</td>\n",
       "      <td>0.751604</td>\n",
       "      <td>0.352460</td>\n",
       "      <td>0.154866</td>\n",
       "    </tr>\n",
       "    <tr>\n",
       "      <th>CTR</th>\n",
       "      <td>0.914536</td>\n",
       "      <td>0.290754</td>\n",
       "      <td>0.904367</td>\n",
       "      <td>0.879905</td>\n",
       "      <td>1.000000</td>\n",
       "      <td>-0.062034</td>\n",
       "      <td>0.927911</td>\n",
       "      <td>0.875626</td>\n",
       "      <td>0.046351</td>\n",
       "      <td>0.002818</td>\n",
       "    </tr>\n",
       "    <tr>\n",
       "      <th>Close Rate</th>\n",
       "      <td>0.062554</td>\n",
       "      <td>0.133425</td>\n",
       "      <td>0.077209</td>\n",
       "      <td>-0.065878</td>\n",
       "      <td>-0.062034</td>\n",
       "      <td>1.000000</td>\n",
       "      <td>0.043736</td>\n",
       "      <td>0.175974</td>\n",
       "      <td>0.162990</td>\n",
       "      <td>-0.763577</td>\n",
       "    </tr>\n",
       "    <tr>\n",
       "      <th>Quotes</th>\n",
       "      <td>0.978734</td>\n",
       "      <td>0.516362</td>\n",
       "      <td>0.994642</td>\n",
       "      <td>0.800151</td>\n",
       "      <td>0.927911</td>\n",
       "      <td>0.043736</td>\n",
       "      <td>1.000000</td>\n",
       "      <td>0.977814</td>\n",
       "      <td>0.066542</td>\n",
       "      <td>-0.078460</td>\n",
       "    </tr>\n",
       "    <tr>\n",
       "      <th>Sales</th>\n",
       "      <td>0.962179</td>\n",
       "      <td>0.531055</td>\n",
       "      <td>0.980469</td>\n",
       "      <td>0.751604</td>\n",
       "      <td>0.875626</td>\n",
       "      <td>0.175974</td>\n",
       "      <td>0.977814</td>\n",
       "      <td>1.000000</td>\n",
       "      <td>0.089666</td>\n",
       "      <td>-0.162232</td>\n",
       "    </tr>\n",
       "    <tr>\n",
       "      <th>CPQ</th>\n",
       "      <td>0.218729</td>\n",
       "      <td>0.252967</td>\n",
       "      <td>0.098092</td>\n",
       "      <td>0.352460</td>\n",
       "      <td>0.046351</td>\n",
       "      <td>0.162990</td>\n",
       "      <td>0.066542</td>\n",
       "      <td>0.089666</td>\n",
       "      <td>1.000000</td>\n",
       "      <td>0.292783</td>\n",
       "    </tr>\n",
       "    <tr>\n",
       "      <th>CPS</th>\n",
       "      <td>-0.021277</td>\n",
       "      <td>-0.067009</td>\n",
       "      <td>-0.091896</td>\n",
       "      <td>0.154866</td>\n",
       "      <td>0.002818</td>\n",
       "      <td>-0.763577</td>\n",
       "      <td>-0.078460</td>\n",
       "      <td>-0.162232</td>\n",
       "      <td>0.292783</td>\n",
       "      <td>1.000000</td>\n",
       "    </tr>\n",
       "  </tbody>\n",
       "</table>\n",
       "</div>"
      ],
      "text/plain": [
       "                  Cost  Impressions    Clicks       CPC       CTR   \\\n",
       "Cost          1.000000      0.511586  0.977325  0.862481  0.914536   \n",
       "Impressions   0.511586      1.000000  0.558816  0.227006  0.290754   \n",
       "Clicks        0.977325      0.558816  1.000000  0.765388  0.904367   \n",
       "CPC           0.862481      0.227006  0.765388  1.000000  0.879905   \n",
       "CTR           0.914536      0.290754  0.904367  0.879905  1.000000   \n",
       "Close Rate    0.062554      0.133425  0.077209 -0.065878 -0.062034   \n",
       "Quotes        0.978734      0.516362  0.994642  0.800151  0.927911   \n",
       "Sales         0.962179      0.531055  0.980469  0.751604  0.875626   \n",
       "CPQ           0.218729      0.252967  0.098092  0.352460  0.046351   \n",
       "CPS          -0.021277     -0.067009 -0.091896  0.154866  0.002818   \n",
       "\n",
       "              Close Rate    Quotes     Sales       CPQ       CPS   \n",
       "Cost             0.062554  0.978734  0.962179  0.218729 -0.021277  \n",
       "Impressions      0.133425  0.516362  0.531055  0.252967 -0.067009  \n",
       "Clicks           0.077209  0.994642  0.980469  0.098092 -0.091896  \n",
       "CPC             -0.065878  0.800151  0.751604  0.352460  0.154866  \n",
       "CTR             -0.062034  0.927911  0.875626  0.046351  0.002818  \n",
       "Close Rate       1.000000  0.043736  0.175974  0.162990 -0.763577  \n",
       "Quotes           0.043736  1.000000  0.977814  0.066542 -0.078460  \n",
       "Sales            0.175974  0.977814  1.000000  0.089666 -0.162232  \n",
       "CPQ              0.162990  0.066542  0.089666  1.000000  0.292783  \n",
       "CPS             -0.763577 -0.078460 -0.162232  0.292783  1.000000  "
      ]
     },
     "execution_count": 13,
     "metadata": {},
     "output_type": "execute_result"
    }
   ],
   "source": [
    "Brand_df.corr()"
   ]
  },
  {
   "cell_type": "code",
   "execution_count": 17,
   "metadata": {
    "ExecuteTime": {
     "end_time": "2021-02-19T20:02:44.783341Z",
     "start_time": "2021-02-19T20:02:44.384671Z"
    },
    "scrolled": true
   },
   "outputs": [
    {
     "data": {
      "image/png": "[encoded data removed]",
      "text/plain": [
       "<Figure size 1332x756 with 1 Axes>"
      ]
     },
     "metadata": {},
     "output_type": "display_data"
    }
   ],
   "source": [
    "sns.set_style('whitegrid')\n",
    "\n",
    "g = sns.regplot(x=Brand_df['Sales '],y=Brand_df['Clicks '], x_ci=[0,2],line_kws={\"color\": \"red\"})\n",
    "g.figure.set_size_inches(18.5,10.5)"
   ]
  },
  {
   "cell_type": "code",
   "execution_count": 24,
   "metadata": {
    "ExecuteTime": {
     "end_time": "2021-02-19T21:26:04.600529Z",
     "start_time": "2021-02-19T21:26:04.427727Z"
    }
   },
   "outputs": [],
   "source": [
    "Brand_df['Date'] = pd.to_datetime(Brand_df['Date'], format= '%m/%d/%Y')"
   ]
  },
  {
   "cell_type": "code",
   "execution_count": 25,
   "metadata": {
    "ExecuteTime": {
     "end_time": "2021-02-19T21:33:08.217546Z",
     "start_time": "2021-02-19T21:33:08.193628Z"
    }
   },
   "outputs": [],
   "source": [
    "test_df = Brand_df[Brand_df['Date'] >= '2020-10-01'] # create testing data set \n",
    "train_df = Brand_df[Brand_df['Date'] < '2020-10-01'] # create training data set"
   ]
  },
  {
   "cell_type": "code",
   "execution_count": 26,
   "metadata": {
    "ExecuteTime": {
     "end_time": "2021-02-19T21:38:12.500221Z",
     "start_time": "2021-02-19T21:38:12.077137Z"
    }
   },
   "outputs": [],
   "source": [
    "import numpy as np\n",
    "from sklearn import datasets, linear_model\n",
    "from sklearn.metrics import mean_squared_error, r2_score"
   ]
  },
  {
   "cell_type": "code",
   "execution_count": 36,
   "metadata": {
    "ExecuteTime": {
     "end_time": "2021-02-19T21:41:57.563947Z",
     "start_time": "2021-02-19T21:41:57.547017Z"
    }
   },
   "outputs": [],
   "source": [
    "X_train = np.array(train_df['Clicks '])\n",
    "Y_train = np.array(train_df['Sales '])\n",
    "X_test = np.array(test_df['Clicks '])\n",
    "Y_test = np.array(test_df['Sales '])"
   ]
  },
  {
   "cell_type": "code",
   "execution_count": 46,
   "metadata": {
    "ExecuteTime": {
     "end_time": "2021-02-19T21:47:39.991550Z",
     "start_time": "2021-02-19T21:47:39.972616Z"
    }
   },
   "outputs": [
    {
     "data": {
      "text/plain": [
       "LinearRegression()"
      ]
     },
     "execution_count": 46,
     "metadata": {},
     "output_type": "execute_result"
    }
   ],
   "source": [
    "# Create linear regression object\n",
    "regr = linear_model.LinearRegression()\n",
    "\n",
    "# Train the model using the training sets\n",
    "regr.fit(X_train.reshape(-1,1), Y_train.reshape(-1,1))\n"
   ]
  },
  {
   "cell_type": "code",
   "execution_count": 47,
   "metadata": {
    "ExecuteTime": {
     "end_time": "2021-02-19T21:47:58.113158Z",
     "start_time": "2021-02-19T21:47:58.100216Z"
    }
   },
   "outputs": [
    {
     "name": "stdout",
     "output_type": "stream",
     "text": [
      "Coefficients: \n",
      " [[0.06818883]]\n"
     ]
    }
   ],
   "source": [
    "print('Coefficients: \\n', regr.coef_)"
   ]
  },
  {
   "cell_type": "code",
   "execution_count": 48,
   "metadata": {
    "ExecuteTime": {
     "end_time": "2021-02-19T21:48:29.023522Z",
     "start_time": "2021-02-19T21:48:29.013555Z"
    }
   },
   "outputs": [],
   "source": [
    "# Make predictions using the testing set\n",
    "test_y_pred = regr.predict(X_test.reshape(-1, 1))"
   ]
  },
  {
   "cell_type": "code",
   "execution_count": 49,
   "metadata": {
    "ExecuteTime": {
     "end_time": "2021-02-19T21:48:33.369717Z",
     "start_time": "2021-02-19T21:48:33.348807Z"
    },
    "collapsed": true
   },
   "outputs": [
    {
     "data": {
      "text/plain": [
       "array([[ 3.30611201e+01],\n",
       "       [ 4.78197812e+02],\n",
       "       [ 1.47865132e+01],\n",
       "       [ 4.80448043e+02],\n",
       "       [ 3.33078955e+00],\n",
       "       [ 2.89246560e+02],\n",
       "       [ 6.60385346e+00],\n",
       "       [ 2.27058346e+02],\n",
       "       [ 3.32656866e+01],\n",
       "       [ 4.72810894e+02],\n",
       "       [ 1.43091914e+01],\n",
       "       [ 4.01553565e+02],\n",
       "       [ 1.39000584e+01],\n",
       "       [ 3.89075009e+02],\n",
       "       [ 2.76060136e+01],\n",
       "       [ 4.09599848e+02],\n",
       "       [ 1.92869761e+01],\n",
       "       [ 4.39466556e+02],\n",
       "       [ 3.33078955e+00],\n",
       "       [ 2.77177137e+02],\n",
       "       [-5.46556971e+00],\n",
       "       [ 2.04078709e+02],\n",
       "       [ 1.15134493e+01],\n",
       "       [ 3.84438169e+02],\n",
       "       [ 1.38318696e+01],\n",
       "       [ 3.90166031e+02],\n",
       "       [ 2.35146837e+01],\n",
       "       [ 4.14441255e+02],\n",
       "       [ 1.81959548e+01],\n",
       "       [ 4.32579484e+02],\n",
       "       [ 1.52638351e+01],\n",
       "       [ 4.24874146e+02],\n",
       "       [ 1.51956462e+01],\n",
       "       [ 2.83450509e+02],\n",
       "       [-6.89753517e+00],\n",
       "       [ 2.19216630e+02],\n",
       "       [ 2.01052421e+01],\n",
       "       [ 4.44989851e+02],\n",
       "       [ 8.64951841e+00],\n",
       "       [ 4.02780964e+02],\n",
       "       [ 5.30826566e+00],\n",
       "       [ 3.91461618e+02],\n",
       "       [ 7.35393061e+00],\n",
       "       [ 4.07349616e+02],\n",
       "       [ 5.58102099e+00],\n",
       "       [ 4.09531659e+02],\n",
       "       [-1.27617747e+01],\n",
       "       [ 2.61425517e+02],\n",
       "       [-1.63757827e+01],\n",
       "       [ 1.94191329e+02],\n",
       "       [ 8.03581892e+00],\n",
       "       [ 3.92484451e+02],\n",
       "       [ 9.19502906e+00],\n",
       "       [ 3.78642118e+02],\n",
       "       [ 1.42410026e+01],\n",
       "       [ 3.61390344e+02],\n",
       "       [ 1.71731223e+01],\n",
       "       [ 3.98212313e+02],\n",
       "       [ 1.83323325e+01],\n",
       "       [ 4.22760292e+02],\n",
       "       [-3.14714944e+00],\n",
       "       [ 2.43082721e+02],\n",
       "       [-4.30635957e+00],\n",
       "       [ 2.19830330e+02],\n",
       "       [ 1.90824096e+01],\n",
       "       [ 4.29510986e+02],\n",
       "       [ 1.39682473e+01],\n",
       "       [ 3.43115737e+02],\n",
       "       [ 9.74053971e+00],\n",
       "       [ 3.04248103e+02],\n",
       "       [ 1.08315610e+01],\n",
       "       [ 3.17954058e+02],\n",
       "       [ 9.12684023e+00],\n",
       "       [ 3.36842364e+02],\n",
       "       [-6.76115751e+00],\n",
       "       [ 2.00805646e+02],\n",
       "       [-1.18753199e+01],\n",
       "       [ 1.65415642e+02],\n",
       "       [ 2.81515242e+01],\n",
       "       [ 3.12908085e+02],\n",
       "       [ 1.41046249e+01],\n",
       "       [ 2.67153379e+02],\n",
       "       [ 5.24007683e+00],\n",
       "       [ 2.13284202e+02],\n",
       "       [ 1.19907712e+01],\n",
       "       [ 2.47583184e+02],\n",
       "       [ 2.01052421e+01],\n",
       "       [ 2.73904073e+02],\n",
       "       [-4.23817074e+00],\n",
       "       [ 1.70393427e+02],\n",
       "       [-9.96603259e+00],\n",
       "       [ 1.34526101e+02],\n",
       "       [ 1.76504442e+01],\n",
       "       [ 2.59038908e+02],\n",
       "       [ 1.21271488e+01],\n",
       "       [ 2.50106171e+02],\n",
       "       [ 1.45137579e+01],\n",
       "       [ 2.71858408e+02],\n",
       "       [ 1.41728138e+01],\n",
       "       [ 3.30296237e+02],\n",
       "       [ 1.12406940e+01],\n",
       "       [ 3.76528264e+02],\n",
       "       [-9.76146609e+00],\n",
       "       [ 2.24262604e+02],\n",
       "       [-1.65803492e+01],\n",
       "       [ 1.69438783e+02],\n",
       "       [ 1.13770717e+01],\n",
       "       [ 3.47820766e+02],\n",
       "       [ 1.89882409e+00],\n",
       "       [ 3.06225579e+02],\n",
       "       [-1.71518398e+00],\n",
       "       [ 2.79563746e+02],\n",
       "       [-2.38083654e+01],\n",
       "       [ 1.12228353e+02],\n",
       "       [-1.10148449e+00],\n",
       "       [ 3.30978125e+02],\n",
       "       [-1.12616204e+01],\n",
       "       [ 2.26444646e+02],\n",
       "       [-1.33754742e+01],\n",
       "       [ 1.79326164e+02],\n",
       "       [ 1.68321782e+01],\n",
       "       [ 4.11918268e+02],\n",
       "       [ 1.62184787e+01],\n",
       "       [ 3.95552948e+02],\n",
       "       [ 9.33140672e+00],\n",
       "       [ 3.48434466e+02],\n",
       "       [ 1.40364361e+01],\n",
       "       [ 4.01485377e+02],\n",
       "       [ 1.36954919e+01],\n",
       "       [ 4.13691177e+02],\n",
       "       [-1.22162640e+01],\n",
       "       [ 2.59107096e+02],\n",
       "       [-1.46028731e+01],\n",
       "       [ 1.89281733e+02],\n",
       "       [ 5.51283216e+00],\n",
       "       [ 3.84983679e+02],\n",
       "       [ 3.33078955e+00],\n",
       "       [ 3.44479513e+02],\n",
       "       [ 3.73992254e+00],\n",
       "       [ 3.54298705e+02],\n",
       "       [ 1.49910797e+01],\n",
       "       [ 3.72641501e+02],\n",
       "       [ 6.19472047e+00],\n",
       "       [ 3.57708147e+02],\n",
       "       [-6.14745803e+00],\n",
       "       [ 2.14307034e+02],\n",
       "       [-1.03329566e+00],\n",
       "       [ 1.62347145e+02],\n",
       "       [ 6.26290931e+00],\n",
       "       [ 3.31387258e+02],\n",
       "       [ 7.39613955e-01],\n",
       "       [ 2.89382938e+02],\n",
       "       [ 6.71425124e-01],\n",
       "       [ 2.53924745e+02],\n",
       "       [-9.65106832e-01],\n",
       "       [ 2.66198735e+02],\n",
       "       [ 4.35362202e+00],\n",
       "       [ 2.91155847e+02],\n",
       "       [-1.56257056e+01],\n",
       "       [ 1.88872600e+02],\n",
       "       [-2.17627004e+01],\n",
       "       [ 1.28116351e+02],\n",
       "       [-2.15029686e-01],\n",
       "       [ 2.74517772e+02],\n",
       "       [-1.10148449e+00],\n",
       "       [ 2.32308886e+02],\n",
       "       [-7.03391283e+00],\n",
       "       [ 2.41105245e+02],\n",
       "       [-1.56257056e+01],\n",
       "       [ 1.75916722e+02],\n",
       "       [-2.78315064e+01],\n",
       "       [ 7.19287540e+01],\n",
       "       [-1.40573625e+01],\n",
       "       [ 1.90645510e+02],\n",
       "       [-1.52165726e+01],\n",
       "       [ 1.54164485e+02],\n",
       "       [ 6.46747580e+00],\n",
       "       [ 3.21977199e+02],\n",
       "       [ 4.69456618e+00],\n",
       "       [ 2.92042302e+02],\n",
       "       [ 6.12653164e+00],\n",
       "       [ 3.31182691e+02],\n",
       "       [ 7.35393061e+00],\n",
       "       [ 3.86961156e+02]])"
      ]
     },
     "execution_count": 49,
     "metadata": {},
     "output_type": "execute_result"
    }
   ],
   "source": []
  },
  {
   "cell_type": "code",
   "execution_count": null,
   "metadata": {},
   "outputs": [],
   "source": []
  }
 ],
 "metadata": {
  "kernelspec": {
   "display_name": "Python 3",
   "language": "python",
   "name": "python3"
  },
  "language_info": {
   "codemirror_mode": {
    "name": "ipython",
    "version": 3
   },
   "file_extension": ".py",
   "mimetype": "text/x-python",
   "name": "python",
   "nbconvert_exporter": "python",
   "pygments_lexer": "ipython3",
   "version": "3.8.3"
  },
  "toc": {
   "base_numbering": 1,
   "nav_menu": {},
   "number_sections": true,
   "sideBar": true,
   "skip_h1_title": false,
   "title_cell": "Table of Contents",
   "title_sidebar": "Contents",
   "toc_cell": false,
   "toc_position": {},
   "toc_section_display": true,
   "toc_window_display": false
  },
  "varInspector": {
   "cols": {
    "lenName": 16,
    "lenType": 16,
    "lenVar": 40
   },
   "kernels_config": {
    "python": {
     "delete_cmd_postfix": "",
     "delete_cmd_prefix": "del ",
     "library": "var_list.py",
     "varRefreshCmd": "print(var_dic_list())"
    },
    "r": {
     "delete_cmd_postfix": ") ",
     "delete_cmd_prefix": "rm(",
     "library": "var_list.r",
     "varRefreshCmd": "cat(var_dic_list()) "
    }
   },
   "types_to_exclude": [
    "module",
    "function",
    "builtin_function_or_method",
    "instance",
    "_Feature"
   ],
   "window_display": false
  }
 },
 "nbformat": 4,
 "nbformat_minor": 4
}
