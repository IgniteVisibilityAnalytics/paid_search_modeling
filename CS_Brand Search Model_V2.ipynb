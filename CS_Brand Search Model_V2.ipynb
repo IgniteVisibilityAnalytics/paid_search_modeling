{
 "cells": [
  {
   "cell_type": "code",
   "execution_count": 43,
   "metadata": {
    "ExecuteTime": {
     "end_time": "2021-02-24T19:18:06.777783Z",
     "start_time": "2021-02-24T19:18:06.760844Z"
    }
   },
   "outputs": [],
   "source": [
    "import pandas as pd\n",
    "import numpy as np\n",
    "from scipy.stats import pearsonr\n",
    "import seaborn as sns"
   ]
  },
  {
   "cell_type": "code",
   "execution_count": 44,
   "metadata": {
    "ExecuteTime": {
     "end_time": "2021-02-24T19:18:07.919965Z",
     "start_time": "2021-02-24T19:18:07.899730Z"
    }
   },
   "outputs": [],
   "source": [
    "import matplotlib.pyplot as plt"
   ]
  },
  {
   "cell_type": "code",
   "execution_count": 129,
   "metadata": {
    "ExecuteTime": {
     "end_time": "2021-02-23T22:59:09.927382Z",
     "start_time": "2021-02-23T22:59:09.886519Z"
    }
   },
   "outputs": [],
   "source": [
    "df = pd.read_csv('CS_The General - All channels - May-Dec 2020.csv')"
   ]
  },
  {
   "cell_type": "code",
   "execution_count": 130,
   "metadata": {
    "ExecuteTime": {
     "end_time": "2021-02-23T22:59:10.083862Z",
     "start_time": "2021-02-23T22:59:09.934359Z"
    },
    "scrolled": true
   },
   "outputs": [
    {
     "data": {
      "text/html": [
       "<div>\n",
       "<style scoped>\n",
       "    .dataframe tbody tr th:only-of-type {\n",
       "        vertical-align: middle;\n",
       "    }\n",
       "\n",
       "    .dataframe tbody tr th {\n",
       "        vertical-align: top;\n",
       "    }\n",
       "\n",
       "    .dataframe thead th {\n",
       "        text-align: right;\n",
       "    }\n",
       "</style>\n",
       "<table border=\"1\" class=\"dataframe\">\n",
       "  <thead>\n",
       "    <tr style=\"text-align: right;\">\n",
       "      <th></th>\n",
       "      <th>Weekdays</th>\n",
       "      <th>Cost</th>\n",
       "      <th>Impressions</th>\n",
       "      <th>Clicks</th>\n",
       "      <th>CPC</th>\n",
       "      <th>CTR</th>\n",
       "      <th>Close Rate</th>\n",
       "      <th>Quotes</th>\n",
       "      <th>Sales</th>\n",
       "      <th>CPQ</th>\n",
       "      <th>CPS</th>\n",
       "    </tr>\n",
       "  </thead>\n",
       "  <tbody>\n",
       "    <tr>\n",
       "      <th>count</th>\n",
       "      <td>3544.000000</td>\n",
       "      <td>3544.000000</td>\n",
       "      <td>3.544000e+03</td>\n",
       "      <td>3544.000000</td>\n",
       "      <td>3544.000000</td>\n",
       "      <td>3544.000000</td>\n",
       "      <td>3544.000000</td>\n",
       "      <td>3544.000000</td>\n",
       "      <td>3544.000000</td>\n",
       "      <td>3544.000000</td>\n",
       "      <td>3544.000000</td>\n",
       "    </tr>\n",
       "    <tr>\n",
       "      <th>mean</th>\n",
       "      <td>3.983916</td>\n",
       "      <td>10510.532350</td>\n",
       "      <td>1.666434e+05</td>\n",
       "      <td>3233.397856</td>\n",
       "      <td>6.531484</td>\n",
       "      <td>0.056884</td>\n",
       "      <td>0.063601</td>\n",
       "      <td>278.436230</td>\n",
       "      <td>31.656321</td>\n",
       "      <td>114.899434</td>\n",
       "      <td>723.542381</td>\n",
       "    </tr>\n",
       "    <tr>\n",
       "      <th>std</th>\n",
       "      <td>1.996192</td>\n",
       "      <td>21373.188762</td>\n",
       "      <td>6.066921e+05</td>\n",
       "      <td>16596.753060</td>\n",
       "      <td>8.706724</td>\n",
       "      <td>0.123968</td>\n",
       "      <td>0.126537</td>\n",
       "      <td>719.412541</td>\n",
       "      <td>99.966943</td>\n",
       "      <td>1235.349026</td>\n",
       "      <td>1779.930265</td>\n",
       "    </tr>\n",
       "    <tr>\n",
       "      <th>min</th>\n",
       "      <td>1.000000</td>\n",
       "      <td>0.000000</td>\n",
       "      <td>0.000000e+00</td>\n",
       "      <td>0.000000</td>\n",
       "      <td>0.000000</td>\n",
       "      <td>0.000000</td>\n",
       "      <td>0.000000</td>\n",
       "      <td>0.000000</td>\n",
       "      <td>0.000000</td>\n",
       "      <td>0.000000</td>\n",
       "      <td>0.000000</td>\n",
       "    </tr>\n",
       "    <tr>\n",
       "      <th>25%</th>\n",
       "      <td>2.000000</td>\n",
       "      <td>152.432500</td>\n",
       "      <td>6.895000e+02</td>\n",
       "      <td>44.000000</td>\n",
       "      <td>0.486968</td>\n",
       "      <td>0.002181</td>\n",
       "      <td>0.000000</td>\n",
       "      <td>0.000000</td>\n",
       "      <td>0.000000</td>\n",
       "      <td>0.000000</td>\n",
       "      <td>0.000000</td>\n",
       "    </tr>\n",
       "    <tr>\n",
       "      <th>50%</th>\n",
       "      <td>4.000000</td>\n",
       "      <td>2413.886650</td>\n",
       "      <td>1.492200e+04</td>\n",
       "      <td>522.500000</td>\n",
       "      <td>4.153366</td>\n",
       "      <td>0.005112</td>\n",
       "      <td>0.027360</td>\n",
       "      <td>26.000000</td>\n",
       "      <td>1.000000</td>\n",
       "      <td>29.103855</td>\n",
       "      <td>179.953133</td>\n",
       "    </tr>\n",
       "    <tr>\n",
       "      <th>75%</th>\n",
       "      <td>6.000000</td>\n",
       "      <td>5615.000000</td>\n",
       "      <td>1.478792e+05</td>\n",
       "      <td>1682.500000</td>\n",
       "      <td>9.583857</td>\n",
       "      <td>0.046265</td>\n",
       "      <td>0.093023</td>\n",
       "      <td>163.000000</td>\n",
       "      <td>6.000000</td>\n",
       "      <td>67.898497</td>\n",
       "      <td>974.648806</td>\n",
       "    </tr>\n",
       "    <tr>\n",
       "      <th>max</th>\n",
       "      <td>7.000000</td>\n",
       "      <td>107576.806200</td>\n",
       "      <td>1.422445e+07</td>\n",
       "      <td>351532.000000</td>\n",
       "      <td>109.076667</td>\n",
       "      <td>0.545416</td>\n",
       "      <td>3.000000</td>\n",
       "      <td>4532.000000</td>\n",
       "      <td>801.000000</td>\n",
       "      <td>32261.098870</td>\n",
       "      <td>54827.513800</td>\n",
       "    </tr>\n",
       "  </tbody>\n",
       "</table>\n",
       "</div>"
      ],
      "text/plain": [
       "          Weekdays           Cost  Impressions         Clicks          CPC   \\\n",
       "count  3544.000000    3544.000000  3.544000e+03    3544.000000  3544.000000   \n",
       "mean      3.983916   10510.532350  1.666434e+05    3233.397856     6.531484   \n",
       "std       1.996192   21373.188762  6.066921e+05   16596.753060     8.706724   \n",
       "min       1.000000       0.000000  0.000000e+00       0.000000     0.000000   \n",
       "25%       2.000000     152.432500  6.895000e+02      44.000000     0.486968   \n",
       "50%       4.000000    2413.886650  1.492200e+04     522.500000     4.153366   \n",
       "75%       6.000000    5615.000000  1.478792e+05    1682.500000     9.583857   \n",
       "max       7.000000  107576.806200  1.422445e+07  351532.000000   109.076667   \n",
       "\n",
       "              CTR   Close Rate       Quotes        Sales           CPQ   \\\n",
       "count  3544.000000  3544.000000  3544.000000  3544.000000   3544.000000   \n",
       "mean      0.056884     0.063601   278.436230    31.656321    114.899434   \n",
       "std       0.123968     0.126537   719.412541    99.966943   1235.349026   \n",
       "min       0.000000     0.000000     0.000000     0.000000      0.000000   \n",
       "25%       0.002181     0.000000     0.000000     0.000000      0.000000   \n",
       "50%       0.005112     0.027360    26.000000     1.000000     29.103855   \n",
       "75%       0.046265     0.093023   163.000000     6.000000     67.898497   \n",
       "max       0.545416     3.000000  4532.000000   801.000000  32261.098870   \n",
       "\n",
       "               CPS   \n",
       "count   3544.000000  \n",
       "mean     723.542381  \n",
       "std     1779.930265  \n",
       "min        0.000000  \n",
       "25%        0.000000  \n",
       "50%      179.953133  \n",
       "75%      974.648806  \n",
       "max    54827.513800  "
      ]
     },
     "execution_count": 130,
     "metadata": {},
     "output_type": "execute_result"
    }
   ],
   "source": [
    "df.describe()"
   ]
  },
  {
   "cell_type": "code",
   "execution_count": 131,
   "metadata": {
    "ExecuteTime": {
     "end_time": "2021-02-23T22:59:10.114759Z",
     "start_time": "2021-02-23T22:59:10.090838Z"
    },
    "scrolled": true
   },
   "outputs": [
    {
     "data": {
      "text/plain": [
       "Date               object\n",
       "Weekdays            int64\n",
       "Campaign Group     object\n",
       "Cost              float64\n",
       "Impressions         int64\n",
       "Clicks              int64\n",
       "CPC               float64\n",
       "CTR               float64\n",
       "Close Rate        float64\n",
       "Quotes              int64\n",
       "Sales               int64\n",
       "CPQ               float64\n",
       "CPS               float64\n",
       "dtype: object"
      ]
     },
     "execution_count": 131,
     "metadata": {},
     "output_type": "execute_result"
    }
   ],
   "source": [
    "df.dtypes"
   ]
  },
  {
   "cell_type": "code",
   "execution_count": 132,
   "metadata": {
    "ExecuteTime": {
     "end_time": "2021-02-23T22:59:10.207449Z",
     "start_time": "2021-02-23T22:59:10.122732Z"
    },
    "scrolled": true
   },
   "outputs": [
    {
     "data": {
      "text/html": [
       "<div>\n",
       "<style scoped>\n",
       "    .dataframe tbody tr th:only-of-type {\n",
       "        vertical-align: middle;\n",
       "    }\n",
       "\n",
       "    .dataframe tbody tr th {\n",
       "        vertical-align: top;\n",
       "    }\n",
       "\n",
       "    .dataframe thead th {\n",
       "        text-align: right;\n",
       "    }\n",
       "</style>\n",
       "<table border=\"1\" class=\"dataframe\">\n",
       "  <thead>\n",
       "    <tr style=\"text-align: right;\">\n",
       "      <th></th>\n",
       "      <th>Weekdays</th>\n",
       "      <th>Cost</th>\n",
       "      <th>Impressions</th>\n",
       "      <th>Clicks</th>\n",
       "      <th>CPC</th>\n",
       "      <th>CTR</th>\n",
       "      <th>Close Rate</th>\n",
       "      <th>Quotes</th>\n",
       "      <th>Sales</th>\n",
       "      <th>CPQ</th>\n",
       "      <th>CPS</th>\n",
       "    </tr>\n",
       "  </thead>\n",
       "  <tbody>\n",
       "    <tr>\n",
       "      <th>Weekdays</th>\n",
       "      <td>1.000000</td>\n",
       "      <td>-0.059528</td>\n",
       "      <td>0.014409</td>\n",
       "      <td>-0.015192</td>\n",
       "      <td>-0.002453</td>\n",
       "      <td>0.001796</td>\n",
       "      <td>-0.044328</td>\n",
       "      <td>-0.049009</td>\n",
       "      <td>-0.043045</td>\n",
       "      <td>0.015747</td>\n",
       "      <td>0.007621</td>\n",
       "    </tr>\n",
       "    <tr>\n",
       "      <th>Cost</th>\n",
       "      <td>-0.059528</td>\n",
       "      <td>1.000000</td>\n",
       "      <td>0.127067</td>\n",
       "      <td>0.145260</td>\n",
       "      <td>0.510308</td>\n",
       "      <td>0.835994</td>\n",
       "      <td>0.134836</td>\n",
       "      <td>0.920947</td>\n",
       "      <td>0.870342</td>\n",
       "      <td>0.136834</td>\n",
       "      <td>0.057471</td>\n",
       "    </tr>\n",
       "    <tr>\n",
       "      <th>Impressions</th>\n",
       "      <td>0.014409</td>\n",
       "      <td>0.127067</td>\n",
       "      <td>1.000000</td>\n",
       "      <td>0.332599</td>\n",
       "      <td>-0.083179</td>\n",
       "      <td>-0.086728</td>\n",
       "      <td>-0.046292</td>\n",
       "      <td>-0.046242</td>\n",
       "      <td>-0.069262</td>\n",
       "      <td>0.777090</td>\n",
       "      <td>0.363016</td>\n",
       "    </tr>\n",
       "    <tr>\n",
       "      <th>Clicks</th>\n",
       "      <td>-0.015192</td>\n",
       "      <td>0.145260</td>\n",
       "      <td>0.332599</td>\n",
       "      <td>1.000000</td>\n",
       "      <td>-0.073433</td>\n",
       "      <td>0.097896</td>\n",
       "      <td>-0.012825</td>\n",
       "      <td>0.084838</td>\n",
       "      <td>0.057946</td>\n",
       "      <td>0.044361</td>\n",
       "      <td>0.141350</td>\n",
       "    </tr>\n",
       "    <tr>\n",
       "      <th>CPC</th>\n",
       "      <td>-0.002453</td>\n",
       "      <td>0.510308</td>\n",
       "      <td>-0.083179</td>\n",
       "      <td>-0.073433</td>\n",
       "      <td>1.000000</td>\n",
       "      <td>0.309341</td>\n",
       "      <td>0.051062</td>\n",
       "      <td>0.326288</td>\n",
       "      <td>0.244004</td>\n",
       "      <td>-0.009940</td>\n",
       "      <td>0.048663</td>\n",
       "    </tr>\n",
       "    <tr>\n",
       "      <th>CTR</th>\n",
       "      <td>0.001796</td>\n",
       "      <td>0.835994</td>\n",
       "      <td>-0.086728</td>\n",
       "      <td>0.097896</td>\n",
       "      <td>0.309341</td>\n",
       "      <td>1.000000</td>\n",
       "      <td>0.185771</td>\n",
       "      <td>0.934455</td>\n",
       "      <td>0.912896</td>\n",
       "      <td>-0.029031</td>\n",
       "      <td>-0.085953</td>\n",
       "    </tr>\n",
       "    <tr>\n",
       "      <th>Close Rate</th>\n",
       "      <td>-0.044328</td>\n",
       "      <td>0.134836</td>\n",
       "      <td>-0.046292</td>\n",
       "      <td>-0.012825</td>\n",
       "      <td>0.051062</td>\n",
       "      <td>0.185771</td>\n",
       "      <td>1.000000</td>\n",
       "      <td>0.153203</td>\n",
       "      <td>0.168521</td>\n",
       "      <td>0.000835</td>\n",
       "      <td>0.006628</td>\n",
       "    </tr>\n",
       "    <tr>\n",
       "      <th>Quotes</th>\n",
       "      <td>-0.049009</td>\n",
       "      <td>0.920947</td>\n",
       "      <td>-0.046242</td>\n",
       "      <td>0.084838</td>\n",
       "      <td>0.326288</td>\n",
       "      <td>0.934455</td>\n",
       "      <td>0.153203</td>\n",
       "      <td>1.000000</td>\n",
       "      <td>0.979076</td>\n",
       "      <td>-0.024390</td>\n",
       "      <td>-0.042526</td>\n",
       "    </tr>\n",
       "    <tr>\n",
       "      <th>Sales</th>\n",
       "      <td>-0.043045</td>\n",
       "      <td>0.870342</td>\n",
       "      <td>-0.069262</td>\n",
       "      <td>0.057946</td>\n",
       "      <td>0.244004</td>\n",
       "      <td>0.912896</td>\n",
       "      <td>0.168521</td>\n",
       "      <td>0.979076</td>\n",
       "      <td>1.000000</td>\n",
       "      <td>-0.021094</td>\n",
       "      <td>-0.072725</td>\n",
       "    </tr>\n",
       "    <tr>\n",
       "      <th>CPQ</th>\n",
       "      <td>0.015747</td>\n",
       "      <td>0.136834</td>\n",
       "      <td>0.777090</td>\n",
       "      <td>0.044361</td>\n",
       "      <td>-0.009940</td>\n",
       "      <td>-0.029031</td>\n",
       "      <td>0.000835</td>\n",
       "      <td>-0.024390</td>\n",
       "      <td>-0.021094</td>\n",
       "      <td>1.000000</td>\n",
       "      <td>0.222192</td>\n",
       "    </tr>\n",
       "    <tr>\n",
       "      <th>CPS</th>\n",
       "      <td>0.007621</td>\n",
       "      <td>0.057471</td>\n",
       "      <td>0.363016</td>\n",
       "      <td>0.141350</td>\n",
       "      <td>0.048663</td>\n",
       "      <td>-0.085953</td>\n",
       "      <td>0.006628</td>\n",
       "      <td>-0.042526</td>\n",
       "      <td>-0.072725</td>\n",
       "      <td>0.222192</td>\n",
       "      <td>1.000000</td>\n",
       "    </tr>\n",
       "  </tbody>\n",
       "</table>\n",
       "</div>"
      ],
      "text/plain": [
       "              Weekdays      Cost  Impressions    Clicks       CPC       CTR   \\\n",
       "Weekdays      1.000000 -0.059528      0.014409 -0.015192 -0.002453  0.001796   \n",
       "Cost         -0.059528  1.000000      0.127067  0.145260  0.510308  0.835994   \n",
       "Impressions   0.014409  0.127067      1.000000  0.332599 -0.083179 -0.086728   \n",
       "Clicks       -0.015192  0.145260      0.332599  1.000000 -0.073433  0.097896   \n",
       "CPC          -0.002453  0.510308     -0.083179 -0.073433  1.000000  0.309341   \n",
       "CTR           0.001796  0.835994     -0.086728  0.097896  0.309341  1.000000   \n",
       "Close Rate   -0.044328  0.134836     -0.046292 -0.012825  0.051062  0.185771   \n",
       "Quotes       -0.049009  0.920947     -0.046242  0.084838  0.326288  0.934455   \n",
       "Sales        -0.043045  0.870342     -0.069262  0.057946  0.244004  0.912896   \n",
       "CPQ           0.015747  0.136834      0.777090  0.044361 -0.009940 -0.029031   \n",
       "CPS           0.007621  0.057471      0.363016  0.141350  0.048663 -0.085953   \n",
       "\n",
       "              Close Rate    Quotes     Sales       CPQ       CPS   \n",
       "Weekdays        -0.044328 -0.049009 -0.043045  0.015747  0.007621  \n",
       "Cost             0.134836  0.920947  0.870342  0.136834  0.057471  \n",
       "Impressions     -0.046292 -0.046242 -0.069262  0.777090  0.363016  \n",
       "Clicks          -0.012825  0.084838  0.057946  0.044361  0.141350  \n",
       "CPC              0.051062  0.326288  0.244004 -0.009940  0.048663  \n",
       "CTR              0.185771  0.934455  0.912896 -0.029031 -0.085953  \n",
       "Close Rate       1.000000  0.153203  0.168521  0.000835  0.006628  \n",
       "Quotes           0.153203  1.000000  0.979076 -0.024390 -0.042526  \n",
       "Sales            0.168521  0.979076  1.000000 -0.021094 -0.072725  \n",
       "CPQ              0.000835 -0.024390 -0.021094  1.000000  0.222192  \n",
       "CPS              0.006628 -0.042526 -0.072725  0.222192  1.000000  "
      ]
     },
     "execution_count": 132,
     "metadata": {},
     "output_type": "execute_result"
    }
   ],
   "source": [
    "df.corr()"
   ]
  },
  {
   "cell_type": "code",
   "execution_count": null,
   "metadata": {},
   "outputs": [],
   "source": []
  },
  {
   "cell_type": "code",
   "execution_count": null,
   "metadata": {},
   "outputs": [],
   "source": []
  },
  {
   "cell_type": "code",
   "execution_count": null,
   "metadata": {},
   "outputs": [],
   "source": []
  },
  {
   "cell_type": "markdown",
   "metadata": {},
   "source": [
    "## Brand Search Model "
   ]
  },
  {
   "cell_type": "code",
   "execution_count": 40,
   "metadata": {
    "ExecuteTime": {
     "end_time": "2021-02-24T19:17:58.716893Z",
     "start_time": "2021-02-24T19:17:58.627516Z"
    }
   },
   "outputs": [],
   "source": [
    "Brand_df = pd.read_csv('CS_The General - Brand Search - May-Dec 2020.csv')"
   ]
  },
  {
   "cell_type": "code",
   "execution_count": 41,
   "metadata": {
    "ExecuteTime": {
     "end_time": "2021-02-24T19:17:59.421752Z",
     "start_time": "2021-02-24T19:17:59.388868Z"
    }
   },
   "outputs": [
    {
     "data": {
      "text/plain": [
       "<bound method IndexOpsMixin.tolist of Index(['Date', 'Weekday', 'Cost', 'Impressions ', 'Clicks ', 'CPC ', 'CTR ',\n",
       "       'Close Rate ', 'Quotes ', 'Sales ', 'CPQ ', 'CPS '],\n",
       "      dtype='object')>"
      ]
     },
     "execution_count": 41,
     "metadata": {},
     "output_type": "execute_result"
    }
   ],
   "source": [
    "Brand_df.columns.tolist"
   ]
  },
  {
   "cell_type": "code",
   "execution_count": 42,
   "metadata": {
    "ExecuteTime": {
     "end_time": "2021-02-24T19:18:04.307606Z",
     "start_time": "2021-02-24T19:18:00.400894Z"
    },
    "scrolled": true
   },
   "outputs": [
    {
     "data": {
      "image/png": "[encoded data removed]",
      "text/plain": [
       "<Figure size 1332x756 with 1 Axes>"
      ]
     },
     "metadata": {},
     "output_type": "display_data"
    }
   ],
   "source": [
    "sns.set_style('whitegrid')\n",
    "\n",
    "g = sns.regplot(x=Brand_df['Sales '],y=Brand_df['Clicks '], x_ci=[0,2],line_kws={\"color\": \"red\"})\n",
    "g.figure.set_size_inches(18.5,10.5)"
   ]
  },
  {
   "cell_type": "code",
   "execution_count": 45,
   "metadata": {
    "ExecuteTime": {
     "end_time": "2021-02-24T19:18:13.706513Z",
     "start_time": "2021-02-24T19:18:13.653646Z"
    }
   },
   "outputs": [],
   "source": [
    "Brand_df['Date'] = pd.to_datetime(Brand_df['Date'], format= '%m/%d/%Y')"
   ]
  },
  {
   "cell_type": "code",
   "execution_count": 46,
   "metadata": {
    "ExecuteTime": {
     "end_time": "2021-02-24T19:18:36.106608Z",
     "start_time": "2021-02-24T19:18:36.078702Z"
    }
   },
   "outputs": [],
   "source": [
    "#test_df = Brand_df[Brand_df['Date'] >= '2020-10-01'] # create testing data set \n",
    "train_df = Brand_df[Brand_df['Date'] < '2020-10-01'] # create training data set"
   ]
  },
  {
   "cell_type": "code",
   "execution_count": 188,
   "metadata": {
    "ExecuteTime": {
     "end_time": "2021-02-23T23:51:30.077092Z",
     "start_time": "2021-02-23T23:51:30.017297Z"
    }
   },
   "outputs": [
    {
     "data": {
      "text/html": [
       "<div>\n",
       "<style scoped>\n",
       "    .dataframe tbody tr th:only-of-type {\n",
       "        vertical-align: middle;\n",
       "    }\n",
       "\n",
       "    .dataframe tbody tr th {\n",
       "        vertical-align: top;\n",
       "    }\n",
       "\n",
       "    .dataframe thead th {\n",
       "        text-align: right;\n",
       "    }\n",
       "</style>\n",
       "<table border=\"1\" class=\"dataframe\">\n",
       "  <thead>\n",
       "    <tr style=\"text-align: right;\">\n",
       "      <th></th>\n",
       "      <th>Date</th>\n",
       "      <th>Weekday</th>\n",
       "      <th>Cost</th>\n",
       "      <th>Impressions</th>\n",
       "      <th>Clicks</th>\n",
       "      <th>CPC</th>\n",
       "      <th>CTR</th>\n",
       "      <th>Close Rate</th>\n",
       "      <th>Quotes</th>\n",
       "      <th>Sales</th>\n",
       "      <th>CPQ</th>\n",
       "      <th>CPS</th>\n",
       "    </tr>\n",
       "  </thead>\n",
       "  <tbody>\n",
       "    <tr>\n",
       "      <th>306</th>\n",
       "      <td>2020-10-01</td>\n",
       "      <td>5</td>\n",
       "      <td>7137.4200</td>\n",
       "      <td>12477</td>\n",
       "      <td>1070</td>\n",
       "      <td>6.670486</td>\n",
       "      <td>0.085758</td>\n",
       "      <td>0.159817</td>\n",
       "      <td>219</td>\n",
       "      <td>35</td>\n",
       "      <td>32.590959</td>\n",
       "      <td>203.926286</td>\n",
       "    </tr>\n",
       "    <tr>\n",
       "      <th>307</th>\n",
       "      <td>2020-10-01</td>\n",
       "      <td>5</td>\n",
       "      <td>107576.8062</td>\n",
       "      <td>15182</td>\n",
       "      <td>7598</td>\n",
       "      <td>14.158569</td>\n",
       "      <td>0.500461</td>\n",
       "      <td>0.156575</td>\n",
       "      <td>3270</td>\n",
       "      <td>512</td>\n",
       "      <td>32.898106</td>\n",
       "      <td>210.110950</td>\n",
       "    </tr>\n",
       "    <tr>\n",
       "      <th>308</th>\n",
       "      <td>2020-10-02</td>\n",
       "      <td>6</td>\n",
       "      <td>6074.5900</td>\n",
       "      <td>8891</td>\n",
       "      <td>802</td>\n",
       "      <td>7.574302</td>\n",
       "      <td>0.090204</td>\n",
       "      <td>0.209184</td>\n",
       "      <td>196</td>\n",
       "      <td>41</td>\n",
       "      <td>30.992806</td>\n",
       "      <td>148.160732</td>\n",
       "    </tr>\n",
       "    <tr>\n",
       "      <th>309</th>\n",
       "      <td>2020-10-02</td>\n",
       "      <td>6</td>\n",
       "      <td>105633.8900</td>\n",
       "      <td>15002</td>\n",
       "      <td>7631</td>\n",
       "      <td>13.842732</td>\n",
       "      <td>0.508666</td>\n",
       "      <td>0.180099</td>\n",
       "      <td>3226</td>\n",
       "      <td>581</td>\n",
       "      <td>32.744541</td>\n",
       "      <td>181.813924</td>\n",
       "    </tr>\n",
       "    <tr>\n",
       "      <th>310</th>\n",
       "      <td>2020-10-03</td>\n",
       "      <td>7</td>\n",
       "      <td>3436.7400</td>\n",
       "      <td>13664</td>\n",
       "      <td>634</td>\n",
       "      <td>5.420726</td>\n",
       "      <td>0.046399</td>\n",
       "      <td>0.159091</td>\n",
       "      <td>132</td>\n",
       "      <td>21</td>\n",
       "      <td>26.035909</td>\n",
       "      <td>163.654286</td>\n",
       "    </tr>\n",
       "    <tr>\n",
       "      <th>...</th>\n",
       "      <td>...</td>\n",
       "      <td>...</td>\n",
       "      <td>...</td>\n",
       "      <td>...</td>\n",
       "      <td>...</td>\n",
       "      <td>...</td>\n",
       "      <td>...</td>\n",
       "      <td>...</td>\n",
       "      <td>...</td>\n",
       "      <td>...</td>\n",
       "      <td>...</td>\n",
       "      <td>...</td>\n",
       "    </tr>\n",
       "    <tr>\n",
       "      <th>485</th>\n",
       "      <td>2020-12-29</td>\n",
       "      <td>3</td>\n",
       "      <td>67279.3900</td>\n",
       "      <td>11084</td>\n",
       "      <td>4868</td>\n",
       "      <td>13.820746</td>\n",
       "      <td>0.439192</td>\n",
       "      <td>0.120166</td>\n",
       "      <td>2405</td>\n",
       "      <td>289</td>\n",
       "      <td>27.974798</td>\n",
       "      <td>232.800657</td>\n",
       "    </tr>\n",
       "    <tr>\n",
       "      <th>486</th>\n",
       "      <td>2020-12-30</td>\n",
       "      <td>4</td>\n",
       "      <td>4580.9800</td>\n",
       "      <td>3913</td>\n",
       "      <td>675</td>\n",
       "      <td>6.786637</td>\n",
       "      <td>0.172502</td>\n",
       "      <td>0.158974</td>\n",
       "      <td>195</td>\n",
       "      <td>31</td>\n",
       "      <td>23.492205</td>\n",
       "      <td>147.773548</td>\n",
       "    </tr>\n",
       "    <tr>\n",
       "      <th>487</th>\n",
       "      <td>2020-12-30</td>\n",
       "      <td>4</td>\n",
       "      <td>72092.1600</td>\n",
       "      <td>12529</td>\n",
       "      <td>5442</td>\n",
       "      <td>13.247365</td>\n",
       "      <td>0.434352</td>\n",
       "      <td>0.138167</td>\n",
       "      <td>2772</td>\n",
       "      <td>383</td>\n",
       "      <td>26.007273</td>\n",
       "      <td>188.230183</td>\n",
       "    </tr>\n",
       "    <tr>\n",
       "      <th>488</th>\n",
       "      <td>2020-12-31</td>\n",
       "      <td>5</td>\n",
       "      <td>4666.8700</td>\n",
       "      <td>3713</td>\n",
       "      <td>693</td>\n",
       "      <td>6.734300</td>\n",
       "      <td>0.186642</td>\n",
       "      <td>0.188073</td>\n",
       "      <td>218</td>\n",
       "      <td>41</td>\n",
       "      <td>21.407661</td>\n",
       "      <td>113.826098</td>\n",
       "    </tr>\n",
       "    <tr>\n",
       "      <th>489</th>\n",
       "      <td>2020-12-31</td>\n",
       "      <td>5</td>\n",
       "      <td>85704.6600</td>\n",
       "      <td>12847</td>\n",
       "      <td>6260</td>\n",
       "      <td>13.690840</td>\n",
       "      <td>0.487273</td>\n",
       "      <td>0.206802</td>\n",
       "      <td>2911</td>\n",
       "      <td>602</td>\n",
       "      <td>29.441656</td>\n",
       "      <td>142.366545</td>\n",
       "    </tr>\n",
       "  </tbody>\n",
       "</table>\n",
       "<p>184 rows × 12 columns</p>\n",
       "</div>"
      ],
      "text/plain": [
       "          Date  Weekday         Cost  Impressions   Clicks        CPC   \\\n",
       "306 2020-10-01        5    7137.4200         12477     1070   6.670486   \n",
       "307 2020-10-01        5  107576.8062         15182     7598  14.158569   \n",
       "308 2020-10-02        6    6074.5900          8891      802   7.574302   \n",
       "309 2020-10-02        6  105633.8900         15002     7631  13.842732   \n",
       "310 2020-10-03        7    3436.7400         13664      634   5.420726   \n",
       "..         ...      ...          ...           ...      ...        ...   \n",
       "485 2020-12-29        3   67279.3900         11084     4868  13.820746   \n",
       "486 2020-12-30        4    4580.9800          3913      675   6.786637   \n",
       "487 2020-12-30        4   72092.1600         12529     5442  13.247365   \n",
       "488 2020-12-31        5    4666.8700          3713      693   6.734300   \n",
       "489 2020-12-31        5   85704.6600         12847     6260  13.690840   \n",
       "\n",
       "         CTR   Close Rate   Quotes   Sales        CPQ         CPS   \n",
       "306  0.085758     0.159817      219      35  32.590959  203.926286  \n",
       "307  0.500461     0.156575     3270     512  32.898106  210.110950  \n",
       "308  0.090204     0.209184      196      41  30.992806  148.160732  \n",
       "309  0.508666     0.180099     3226     581  32.744541  181.813924  \n",
       "310  0.046399     0.159091      132      21  26.035909  163.654286  \n",
       "..        ...          ...      ...     ...        ...         ...  \n",
       "485  0.439192     0.120166     2405     289  27.974798  232.800657  \n",
       "486  0.172502     0.158974      195      31  23.492205  147.773548  \n",
       "487  0.434352     0.138167     2772     383  26.007273  188.230183  \n",
       "488  0.186642     0.188073      218      41  21.407661  113.826098  \n",
       "489  0.487273     0.206802     2911     602  29.441656  142.366545  \n",
       "\n",
       "[184 rows x 12 columns]"
      ]
     },
     "execution_count": 188,
     "metadata": {},
     "output_type": "execute_result"
    }
   ],
   "source": [
    "test_df"
   ]
  },
  {
   "cell_type": "code",
   "execution_count": 48,
   "metadata": {
    "ExecuteTime": {
     "end_time": "2021-02-24T19:18:46.416460Z",
     "start_time": "2021-02-24T19:18:46.359651Z"
    }
   },
   "outputs": [
    {
     "data": {
      "text/html": [
       "<div>\n",
       "<style scoped>\n",
       "    .dataframe tbody tr th:only-of-type {\n",
       "        vertical-align: middle;\n",
       "    }\n",
       "\n",
       "    .dataframe tbody tr th {\n",
       "        vertical-align: top;\n",
       "    }\n",
       "\n",
       "    .dataframe thead th {\n",
       "        text-align: right;\n",
       "    }\n",
       "</style>\n",
       "<table border=\"1\" class=\"dataframe\">\n",
       "  <thead>\n",
       "    <tr style=\"text-align: right;\">\n",
       "      <th></th>\n",
       "      <th>Date</th>\n",
       "      <th>Weekday</th>\n",
       "      <th>Cost</th>\n",
       "      <th>Impressions</th>\n",
       "      <th>Clicks</th>\n",
       "      <th>CPC</th>\n",
       "      <th>CTR</th>\n",
       "      <th>Close Rate</th>\n",
       "      <th>Quotes</th>\n",
       "      <th>Sales</th>\n",
       "      <th>CPQ</th>\n",
       "      <th>CPS</th>\n",
       "    </tr>\n",
       "  </thead>\n",
       "  <tbody>\n",
       "    <tr>\n",
       "      <th>0</th>\n",
       "      <td>2020-05-01</td>\n",
       "      <td>5</td>\n",
       "      <td>7569.1900</td>\n",
       "      <td>7837</td>\n",
       "      <td>1230</td>\n",
       "      <td>6.153813</td>\n",
       "      <td>0.156948</td>\n",
       "      <td>0.179856</td>\n",
       "      <td>278</td>\n",
       "      <td>50</td>\n",
       "      <td>27.227302</td>\n",
       "      <td>151.383800</td>\n",
       "    </tr>\n",
       "    <tr>\n",
       "      <th>1</th>\n",
       "      <td>2020-05-01</td>\n",
       "      <td>5</td>\n",
       "      <td>106154.7352</td>\n",
       "      <td>18778</td>\n",
       "      <td>9960</td>\n",
       "      <td>10.658106</td>\n",
       "      <td>0.530408</td>\n",
       "      <td>0.176743</td>\n",
       "      <td>4532</td>\n",
       "      <td>801</td>\n",
       "      <td>23.423375</td>\n",
       "      <td>132.527759</td>\n",
       "    </tr>\n",
       "    <tr>\n",
       "      <th>2</th>\n",
       "      <td>2020-05-02</td>\n",
       "      <td>6</td>\n",
       "      <td>3723.8700</td>\n",
       "      <td>6590</td>\n",
       "      <td>840</td>\n",
       "      <td>4.433179</td>\n",
       "      <td>0.127466</td>\n",
       "      <td>0.122222</td>\n",
       "      <td>180</td>\n",
       "      <td>22</td>\n",
       "      <td>20.688167</td>\n",
       "      <td>169.266818</td>\n",
       "    </tr>\n",
       "    <tr>\n",
       "      <th>3</th>\n",
       "      <td>2020-05-02</td>\n",
       "      <td>6</td>\n",
       "      <td>62389.1917</td>\n",
       "      <td>11725</td>\n",
       "      <td>6395</td>\n",
       "      <td>9.755933</td>\n",
       "      <td>0.545416</td>\n",
       "      <td>0.152852</td>\n",
       "      <td>3173</td>\n",
       "      <td>485</td>\n",
       "      <td>19.662525</td>\n",
       "      <td>128.637509</td>\n",
       "    </tr>\n",
       "    <tr>\n",
       "      <th>4</th>\n",
       "      <td>2020-05-03</td>\n",
       "      <td>7</td>\n",
       "      <td>4050.9500</td>\n",
       "      <td>8439</td>\n",
       "      <td>1033</td>\n",
       "      <td>3.921539</td>\n",
       "      <td>0.122408</td>\n",
       "      <td>0.097143</td>\n",
       "      <td>175</td>\n",
       "      <td>17</td>\n",
       "      <td>23.148286</td>\n",
       "      <td>238.291177</td>\n",
       "    </tr>\n",
       "    <tr>\n",
       "      <th>5</th>\n",
       "      <td>2020-05-03</td>\n",
       "      <td>7</td>\n",
       "      <td>47360.6950</td>\n",
       "      <td>9861</td>\n",
       "      <td>5264</td>\n",
       "      <td>8.997093</td>\n",
       "      <td>0.533820</td>\n",
       "      <td>0.095514</td>\n",
       "      <td>2586</td>\n",
       "      <td>247</td>\n",
       "      <td>18.314267</td>\n",
       "      <td>191.743704</td>\n",
       "    </tr>\n",
       "    <tr>\n",
       "      <th>6</th>\n",
       "      <td>2020-05-04</td>\n",
       "      <td>1</td>\n",
       "      <td>7040.7500</td>\n",
       "      <td>17472</td>\n",
       "      <td>2082</td>\n",
       "      <td>3.381724</td>\n",
       "      <td>0.119162</td>\n",
       "      <td>0.179878</td>\n",
       "      <td>328</td>\n",
       "      <td>59</td>\n",
       "      <td>21.465701</td>\n",
       "      <td>119.334746</td>\n",
       "    </tr>\n",
       "    <tr>\n",
       "      <th>7</th>\n",
       "      <td>2020-05-04</td>\n",
       "      <td>1</td>\n",
       "      <td>94501.6400</td>\n",
       "      <td>18661</td>\n",
       "      <td>9754</td>\n",
       "      <td>9.688501</td>\n",
       "      <td>0.522694</td>\n",
       "      <td>0.145730</td>\n",
       "      <td>4426</td>\n",
       "      <td>645</td>\n",
       "      <td>21.351478</td>\n",
       "      <td>146.514171</td>\n",
       "    </tr>\n",
       "    <tr>\n",
       "      <th>8</th>\n",
       "      <td>2020-05-05</td>\n",
       "      <td>2</td>\n",
       "      <td>6466.7200</td>\n",
       "      <td>9611</td>\n",
       "      <td>1282</td>\n",
       "      <td>5.044243</td>\n",
       "      <td>0.133389</td>\n",
       "      <td>0.148148</td>\n",
       "      <td>297</td>\n",
       "      <td>44</td>\n",
       "      <td>21.773468</td>\n",
       "      <td>146.970909</td>\n",
       "    </tr>\n",
       "    <tr>\n",
       "      <th>9</th>\n",
       "      <td>2020-05-05</td>\n",
       "      <td>2</td>\n",
       "      <td>83354.9094</td>\n",
       "      <td>16084</td>\n",
       "      <td>8496</td>\n",
       "      <td>9.811077</td>\n",
       "      <td>0.528227</td>\n",
       "      <td>0.129090</td>\n",
       "      <td>3912</td>\n",
       "      <td>505</td>\n",
       "      <td>21.307492</td>\n",
       "      <td>165.059226</td>\n",
       "    </tr>\n",
       "  </tbody>\n",
       "</table>\n",
       "</div>"
      ],
      "text/plain": [
       "        Date  Weekday         Cost  Impressions   Clicks        CPC   \\\n",
       "0 2020-05-01        5    7569.1900          7837     1230   6.153813   \n",
       "1 2020-05-01        5  106154.7352         18778     9960  10.658106   \n",
       "2 2020-05-02        6    3723.8700          6590      840   4.433179   \n",
       "3 2020-05-02        6   62389.1917         11725     6395   9.755933   \n",
       "4 2020-05-03        7    4050.9500          8439     1033   3.921539   \n",
       "5 2020-05-03        7   47360.6950          9861     5264   8.997093   \n",
       "6 2020-05-04        1    7040.7500         17472     2082   3.381724   \n",
       "7 2020-05-04        1   94501.6400         18661     9754   9.688501   \n",
       "8 2020-05-05        2    6466.7200          9611     1282   5.044243   \n",
       "9 2020-05-05        2   83354.9094         16084     8496   9.811077   \n",
       "\n",
       "       CTR   Close Rate   Quotes   Sales        CPQ         CPS   \n",
       "0  0.156948     0.179856      278      50  27.227302  151.383800  \n",
       "1  0.530408     0.176743     4532     801  23.423375  132.527759  \n",
       "2  0.127466     0.122222      180      22  20.688167  169.266818  \n",
       "3  0.545416     0.152852     3173     485  19.662525  128.637509  \n",
       "4  0.122408     0.097143      175      17  23.148286  238.291177  \n",
       "5  0.533820     0.095514     2586     247  18.314267  191.743704  \n",
       "6  0.119162     0.179878      328      59  21.465701  119.334746  \n",
       "7  0.522694     0.145730     4426     645  21.351478  146.514171  \n",
       "8  0.133389     0.148148      297      44  21.773468  146.970909  \n",
       "9  0.528227     0.129090     3912     505  21.307492  165.059226  "
      ]
     },
     "execution_count": 48,
     "metadata": {},
     "output_type": "execute_result"
    }
   ],
   "source": [
    "train_df.head(10)"
   ]
  },
  {
   "cell_type": "markdown",
   "metadata": {},
   "source": [
    "### create weekdays table for Train & Test"
   ]
  },
  {
   "cell_type": "code",
   "execution_count": 138,
   "metadata": {
    "ExecuteTime": {
     "end_time": "2021-02-23T22:59:12.293494Z",
     "start_time": "2021-02-23T22:59:12.253628Z"
    }
   },
   "outputs": [],
   "source": [
    "### testing dataset weekdays table \n",
    "test_df_Mon = test_df[test_df['Weekday'] == 1]\n",
    "test_df_Tue = test_df[test_df['Weekday'] == 2]\n",
    "test_df_Wed = test_df[test_df['Weekday'] == 3]\n",
    "test_df_Thu = test_df[test_df['Weekday'] == 4]\n",
    "test_df_Fri = test_df[test_df['Weekday'] == 5]\n",
    "test_df_Sat = test_df[test_df['Weekday'] == 6]\n",
    "test_df_Sun = test_df[test_df['Weekday'] == 7]"
   ]
  },
  {
   "cell_type": "code",
   "execution_count": 52,
   "metadata": {
    "ExecuteTime": {
     "end_time": "2021-02-24T19:19:40.467063Z",
     "start_time": "2021-02-24T19:19:40.426201Z"
    }
   },
   "outputs": [],
   "source": [
    "### Training dataset weekdays table \n",
    "train_df_Mon = train_df [train_df['Weekday'] == 1]\n",
    "train_df_Tue = train_df [train_df['Weekday'] == 2]\n",
    "train_df_Wed = train_df [train_df['Weekday'] == 3]\n",
    "train_df_Thu = train_df [train_df['Weekday'] == 4]\n",
    "train_df_Fri = train_df [train_df['Weekday'] == 5]\n",
    "train_df_Sat = train_df [train_df['Weekday'] == 6]\n",
    "train_df_Sun = train_df [train_df['Weekday'] == 7]"
   ]
  },
  {
   "cell_type": "markdown",
   "metadata": {},
   "source": [
    "### Monday"
   ]
  },
  {
   "cell_type": "code",
   "execution_count": 53,
   "metadata": {
    "ExecuteTime": {
     "end_time": "2021-02-24T19:19:45.388719Z",
     "start_time": "2021-02-24T19:19:45.375311Z"
    }
   },
   "outputs": [],
   "source": [
    "import numpy as np\n",
    "from sklearn import datasets, linear_model\n",
    "from sklearn.metrics import mean_squared_error, r2_score"
   ]
  },
  {
   "cell_type": "code",
   "execution_count": 54,
   "metadata": {
    "ExecuteTime": {
     "end_time": "2021-02-24T19:19:47.605669Z",
     "start_time": "2021-02-24T19:19:47.579051Z"
    }
   },
   "outputs": [],
   "source": [
    "X_train_Mon = np.array(train_df_Mon['Clicks '])\n",
    "Y_train_Mon = np.array(train_df_Mon['Sales '])\n",
    "X_test_Mon = np.array(test_df_Mon['Clicks '])\n",
    "Y_test_Mon = np.array(test_df_Mon['Sales '])"
   ]
  },
  {
   "cell_type": "code",
   "execution_count": 55,
   "metadata": {
    "ExecuteTime": {
     "end_time": "2021-02-24T19:19:48.889532Z",
     "start_time": "2021-02-24T19:19:48.848511Z"
    }
   },
   "outputs": [
    {
     "data": {
      "text/plain": [
       "LinearRegression()"
      ]
     },
     "execution_count": 55,
     "metadata": {},
     "output_type": "execute_result"
    }
   ],
   "source": [
    "# Create linear regression object\n",
    "regr_Mon = linear_model.LinearRegression()\n",
    "\n",
    "# Train the model using the training sets\n",
    "regr_Mon.fit(X_train_Mon.reshape(-1,1), Y_train_Mon.reshape(-1,1))\n"
   ]
  },
  {
   "cell_type": "code",
   "execution_count": 208,
   "metadata": {
    "ExecuteTime": {
     "end_time": "2021-02-24T05:44:38.623349Z",
     "start_time": "2021-02-24T05:44:38.609401Z"
    }
   },
   "outputs": [],
   "source": [
    "###print('Coefficients: \\n', regr.coef_)"
   ]
  },
  {
   "cell_type": "code",
   "execution_count": 56,
   "metadata": {
    "ExecuteTime": {
     "end_time": "2021-02-24T19:19:55.560716Z",
     "start_time": "2021-02-24T19:19:55.545071Z"
    }
   },
   "outputs": [],
   "source": [
    "# Make predictions using the testing set\n",
    "y_pred_Mon = regr_Mon.predict(X_test_Mon.reshape(-1, 1))"
   ]
  },
  {
   "cell_type": "code",
   "execution_count": 210,
   "metadata": {
    "ExecuteTime": {
     "end_time": "2021-02-24T05:44:40.469919Z",
     "start_time": "2021-02-24T05:44:40.462924Z"
    }
   },
   "outputs": [],
   "source": [
    "##prediction_Mon = pd.DataFrame(y_pred_Mon, columns=['sales_pred']).to_csv('prediction_Mon.csv')"
   ]
  },
  {
   "cell_type": "markdown",
   "metadata": {},
   "source": [
    "### Tuesday"
   ]
  },
  {
   "cell_type": "code",
   "execution_count": 57,
   "metadata": {
    "ExecuteTime": {
     "end_time": "2021-02-24T19:19:58.427155Z",
     "start_time": "2021-02-24T19:19:58.408104Z"
    }
   },
   "outputs": [],
   "source": [
    "X_train_Tue = np.array(train_df_Tue['Clicks '])\n",
    "Y_train_Tue = np.array(train_df_Tue['Sales '])\n",
    "X_test_Tue = np.array(test_df_Tue['Clicks '])\n",
    "Y_test_Tue = np.array(test_df_Tue['Sales '])"
   ]
  },
  {
   "cell_type": "code",
   "execution_count": 58,
   "metadata": {
    "ExecuteTime": {
     "end_time": "2021-02-24T19:20:02.513795Z",
     "start_time": "2021-02-24T19:20:02.497233Z"
    }
   },
   "outputs": [
    {
     "data": {
      "text/plain": [
       "LinearRegression()"
      ]
     },
     "execution_count": 58,
     "metadata": {},
     "output_type": "execute_result"
    }
   ],
   "source": [
    "# Create linear regression object\n",
    "regr_Tue = linear_model.LinearRegression()\n",
    "\n",
    "# Train the model using the training sets\n",
    "regr_Tue.fit(X_train_Tue.reshape(-1,1), Y_train_Tue.reshape(-1,1))\n"
   ]
  },
  {
   "cell_type": "code",
   "execution_count": 59,
   "metadata": {
    "ExecuteTime": {
     "end_time": "2021-02-24T19:20:04.813372Z",
     "start_time": "2021-02-24T19:20:04.795931Z"
    }
   },
   "outputs": [],
   "source": [
    "# Make predictions using the testing set\n",
    "y_pred_Tue = regr_Tue.predict(X_test_Tue.reshape(-1, 1))"
   ]
  },
  {
   "cell_type": "code",
   "execution_count": 214,
   "metadata": {
    "ExecuteTime": {
     "end_time": "2021-02-24T05:44:43.623000Z",
     "start_time": "2021-02-24T05:44:43.613035Z"
    }
   },
   "outputs": [],
   "source": [
    "#prediction_Tue = pd.DataFrame(y_pred_Tue, columns=['sales_pred']).to_csv('prediction_Tue.csv')"
   ]
  },
  {
   "cell_type": "markdown",
   "metadata": {
    "ExecuteTime": {
     "end_time": "2021-02-23T22:09:41.036186Z",
     "start_time": "2021-02-23T22:09:41.026861Z"
    }
   },
   "source": [
    "### Wednesday "
   ]
  },
  {
   "cell_type": "code",
   "execution_count": 60,
   "metadata": {
    "ExecuteTime": {
     "end_time": "2021-02-24T19:20:07.637304Z",
     "start_time": "2021-02-24T19:20:07.619335Z"
    }
   },
   "outputs": [],
   "source": [
    "X_train_Wed = np.array(train_df_Wed['Clicks '])\n",
    "Y_train_Wed = np.array(train_df_Wed['Sales '])\n",
    "X_test_Wed = np.array(test_df_Wed['Clicks '])\n",
    "Y_test_Wed = np.array(test_df_Wed['Sales '])"
   ]
  },
  {
   "cell_type": "code",
   "execution_count": 61,
   "metadata": {
    "ExecuteTime": {
     "end_time": "2021-02-24T19:20:10.365851Z",
     "start_time": "2021-02-24T19:20:10.343923Z"
    }
   },
   "outputs": [
    {
     "data": {
      "text/plain": [
       "LinearRegression()"
      ]
     },
     "execution_count": 61,
     "metadata": {},
     "output_type": "execute_result"
    }
   ],
   "source": [
    "# Create linear regression object\n",
    "regr_Wed = linear_model.LinearRegression()\n",
    "\n",
    "# Train the model using the training sets\n",
    "regr_Wed.fit(X_train_Wed.reshape(-1,1), Y_train_Wed.reshape(-1,1))\n"
   ]
  },
  {
   "cell_type": "code",
   "execution_count": 62,
   "metadata": {
    "ExecuteTime": {
     "end_time": "2021-02-24T19:20:12.822095Z",
     "start_time": "2021-02-24T19:20:12.813126Z"
    }
   },
   "outputs": [],
   "source": [
    "# Make predictions using the testing set\n",
    "y_pred_Wed = regr_Wed.predict(X_test_Wed.reshape(-1, 1))"
   ]
  },
  {
   "cell_type": "code",
   "execution_count": 218,
   "metadata": {
    "ExecuteTime": {
     "end_time": "2021-02-24T05:44:49.287878Z",
     "start_time": "2021-02-24T05:44:49.247016Z"
    }
   },
   "outputs": [],
   "source": [
    "#prediction_Wed = pd.DataFrame(y_pred_Wed, columns=['sales_pred']).to_csv('prediction_Wed.csv')"
   ]
  },
  {
   "cell_type": "code",
   "execution_count": null,
   "metadata": {},
   "outputs": [],
   "source": []
  },
  {
   "cell_type": "markdown",
   "metadata": {},
   "source": [
    "### Thursday  "
   ]
  },
  {
   "cell_type": "code",
   "execution_count": 63,
   "metadata": {
    "ExecuteTime": {
     "end_time": "2021-02-24T19:20:15.386609Z",
     "start_time": "2021-02-24T19:20:15.367675Z"
    }
   },
   "outputs": [],
   "source": [
    "X_train_Thu = np.array(train_df_Thu['Clicks '])\n",
    "Y_train_Thu = np.array(train_df_Thu['Sales '])\n",
    "X_test_Thu = np.array(test_df_Thu['Clicks '])\n",
    "Y_test_Thu = np.array(test_df_Thu['Sales '])"
   ]
  },
  {
   "cell_type": "code",
   "execution_count": 64,
   "metadata": {
    "ExecuteTime": {
     "end_time": "2021-02-24T19:20:16.726902Z",
     "start_time": "2021-02-24T19:20:16.693415Z"
    }
   },
   "outputs": [
    {
     "data": {
      "text/plain": [
       "LinearRegression()"
      ]
     },
     "execution_count": 64,
     "metadata": {},
     "output_type": "execute_result"
    }
   ],
   "source": [
    "# Create linear regression object\n",
    "regr_Thu = linear_model.LinearRegression()\n",
    "\n",
    "# Train the model using the training sets\n",
    "regr_Thu.fit(X_train_Thu.reshape(-1,1), Y_train_Thu.reshape(-1,1))\n"
   ]
  },
  {
   "cell_type": "code",
   "execution_count": 65,
   "metadata": {
    "ExecuteTime": {
     "end_time": "2021-02-24T19:20:18.034007Z",
     "start_time": "2021-02-24T19:20:18.012081Z"
    }
   },
   "outputs": [],
   "source": [
    "# Make predictions using the testing set\n",
    "y_pred_Thu = regr_Thu.predict(X_test_Thu.reshape(-1, 1))"
   ]
  },
  {
   "cell_type": "code",
   "execution_count": 222,
   "metadata": {
    "ExecuteTime": {
     "end_time": "2021-02-24T05:44:52.420789Z",
     "start_time": "2021-02-24T05:44:52.403844Z"
    }
   },
   "outputs": [],
   "source": [
    "#prediction_Thu = pd.DataFrame(y_pred_Thu, columns=['sales_pred']).to_csv('prediction_Thu.csv')"
   ]
  },
  {
   "cell_type": "code",
   "execution_count": null,
   "metadata": {},
   "outputs": [],
   "source": []
  },
  {
   "cell_type": "markdown",
   "metadata": {},
   "source": [
    "### Firday"
   ]
  },
  {
   "cell_type": "code",
   "execution_count": 66,
   "metadata": {
    "ExecuteTime": {
     "end_time": "2021-02-24T19:20:20.788532Z",
     "start_time": "2021-02-24T19:20:20.769597Z"
    }
   },
   "outputs": [],
   "source": [
    "X_train_Fri = np.array(train_df_Fri['Clicks '])\n",
    "Y_train_Fri = np.array(train_df_Fri['Sales '])\n",
    "X_test_Fri = np.array(test_df_Fri['Clicks '])\n",
    "Y_test_Fri = np.array(test_df_Fri['Sales '])"
   ]
  },
  {
   "cell_type": "code",
   "execution_count": 67,
   "metadata": {
    "ExecuteTime": {
     "end_time": "2021-02-24T19:20:22.317822Z",
     "start_time": "2021-02-24T19:20:22.297313Z"
    }
   },
   "outputs": [
    {
     "data": {
      "text/plain": [
       "LinearRegression()"
      ]
     },
     "execution_count": 67,
     "metadata": {},
     "output_type": "execute_result"
    }
   ],
   "source": [
    "# Create linear regression object\n",
    "regr_Fri = linear_model.LinearRegression()\n",
    "\n",
    "# Train the model using the training sets\n",
    "regr_Fri.fit(X_train_Fri.reshape(-1,1), Y_train_Fri.reshape(-1,1))\n"
   ]
  },
  {
   "cell_type": "code",
   "execution_count": 68,
   "metadata": {
    "ExecuteTime": {
     "end_time": "2021-02-24T19:20:24.000092Z",
     "start_time": "2021-02-24T19:20:23.979160Z"
    }
   },
   "outputs": [],
   "source": [
    "# Make predictions using the testing set\n",
    "y_pred_Fri = regr_Fri.predict(X_test_Fri.reshape(-1, 1))"
   ]
  },
  {
   "cell_type": "code",
   "execution_count": 226,
   "metadata": {
    "ExecuteTime": {
     "end_time": "2021-02-24T05:44:59.232542Z",
     "start_time": "2021-02-24T05:44:59.220581Z"
    }
   },
   "outputs": [],
   "source": [
    "#prediction_Fri = pd.DataFrame(y_pred_Fri, columns=['sales_pred']).to_csv('prediction_Fri.csv')"
   ]
  },
  {
   "cell_type": "markdown",
   "metadata": {},
   "source": [
    "### Sat.  "
   ]
  },
  {
   "cell_type": "code",
   "execution_count": 69,
   "metadata": {
    "ExecuteTime": {
     "end_time": "2021-02-24T19:20:25.618309Z",
     "start_time": "2021-02-24T19:20:25.604358Z"
    }
   },
   "outputs": [],
   "source": [
    "X_train_Sat = np.array(train_df_Sat['Clicks '])\n",
    "Y_train_Sat = np.array(train_df_Sat['Sales '])\n",
    "X_test_Sat = np.array(test_df_Sat['Clicks '])\n",
    "Y_test_Sat = np.array(test_df_Sat['Sales '])"
   ]
  },
  {
   "cell_type": "code",
   "execution_count": 70,
   "metadata": {
    "ExecuteTime": {
     "end_time": "2021-02-24T19:20:27.837997Z",
     "start_time": "2021-02-24T19:20:27.810089Z"
    }
   },
   "outputs": [
    {
     "data": {
      "text/plain": [
       "LinearRegression()"
      ]
     },
     "execution_count": 70,
     "metadata": {},
     "output_type": "execute_result"
    }
   ],
   "source": [
    "# Create linear regression object\n",
    "regr_Sat = linear_model.LinearRegression()\n",
    "\n",
    "# Train the model using the training sets\n",
    "regr_Sat.fit(X_train_Sat.reshape(-1,1), Y_train_Sat.reshape(-1,1))\n"
   ]
  },
  {
   "cell_type": "code",
   "execution_count": 71,
   "metadata": {
    "ExecuteTime": {
     "end_time": "2021-02-24T19:20:29.954911Z",
     "start_time": "2021-02-24T19:20:29.938961Z"
    }
   },
   "outputs": [],
   "source": [
    "# Make predictions using the testing set\n",
    "y_pred_Sat = regr_Sat.predict(X_test_Sat.reshape(-1, 1))"
   ]
  },
  {
   "cell_type": "code",
   "execution_count": 230,
   "metadata": {
    "ExecuteTime": {
     "end_time": "2021-02-24T05:45:02.833501Z",
     "start_time": "2021-02-24T05:45:02.824533Z"
    }
   },
   "outputs": [],
   "source": [
    "#prediction_Sat = pd.DataFrame(y_pred_Sat, columns=['sales_pred']).to_csv('prediction_Sat.csv')"
   ]
  },
  {
   "cell_type": "markdown",
   "metadata": {},
   "source": [
    "### Sunday  "
   ]
  },
  {
   "cell_type": "code",
   "execution_count": 72,
   "metadata": {
    "ExecuteTime": {
     "end_time": "2021-02-24T19:20:31.939657Z",
     "start_time": "2021-02-24T19:20:31.917722Z"
    }
   },
   "outputs": [],
   "source": [
    "X_train_Sun = np.array(train_df_Sun['Clicks '])\n",
    "Y_train_Sun = np.array(train_df_Sun['Sales '])\n",
    "X_test_Sun = np.array(test_df_Sun['Clicks '])\n",
    "Y_test_Sun = np.array(test_df_Sun['Sales '])"
   ]
  },
  {
   "cell_type": "code",
   "execution_count": 73,
   "metadata": {
    "ExecuteTime": {
     "end_time": "2021-02-24T19:20:36.006348Z",
     "start_time": "2021-02-24T19:20:35.976448Z"
    }
   },
   "outputs": [
    {
     "data": {
      "text/plain": [
       "LinearRegression()"
      ]
     },
     "execution_count": 73,
     "metadata": {},
     "output_type": "execute_result"
    }
   ],
   "source": [
    "# Create linear regression object\n",
    "regr_Sun = linear_model.LinearRegression()\n",
    "\n",
    "# Train the model using the training sets\n",
    "regr_Sun.fit(X_train_Sun.reshape(-1,1), Y_train_Sun.reshape(-1,1))\n"
   ]
  },
  {
   "cell_type": "code",
   "execution_count": 74,
   "metadata": {
    "ExecuteTime": {
     "end_time": "2021-02-24T19:20:36.022302Z",
     "start_time": "2021-02-24T19:20:36.011329Z"
    }
   },
   "outputs": [],
   "source": [
    "# Make predictions using the testing set\n",
    "y_pred_Sun = regr_Sun.predict(X_test_Sun.reshape(-1, 1))"
   ]
  },
  {
   "cell_type": "code",
   "execution_count": 234,
   "metadata": {
    "ExecuteTime": {
     "end_time": "2021-02-24T05:45:08.311465Z",
     "start_time": "2021-02-24T05:45:08.293527Z"
    }
   },
   "outputs": [],
   "source": [
    "#prediction_Sun = pd.DataFrame(y_pred_Sun, columns=['sales_pred']).to_csv('prediction_Sun.csv')"
   ]
  },
  {
   "cell_type": "markdown",
   "metadata": {},
   "source": [
    "## Print Tables"
   ]
  },
  {
   "cell_type": "code",
   "execution_count": 75,
   "metadata": {
    "ExecuteTime": {
     "end_time": "2021-02-24T19:20:39.195754Z",
     "start_time": "2021-02-24T19:20:39.178803Z"
    }
   },
   "outputs": [],
   "source": [
    "list_Mon = zip(X_test_Mon, Y_test_Mon,y_pred_Mon)\n",
    "list_Tue = zip(X_test_Tue, Y_test_Tue,y_pred_Tue)\n",
    "list_Wed = zip(X_test_Wed, Y_test_Wed,y_pred_Wed)\n",
    "list_Thu = zip(X_test_Thu, Y_test_Thu,y_pred_Thu)\n",
    "list_Fri = zip(X_test_Fri, Y_test_Fri,y_pred_Fri)\n",
    "list_Sat = zip(X_test_Sat, Y_test_Sat,y_pred_Sat)\n",
    "list_Sun = zip(X_test_Sun, Y_test_Sun,y_pred_Sun)"
   ]
  },
  {
   "cell_type": "code",
   "execution_count": 76,
   "metadata": {
    "ExecuteTime": {
     "end_time": "2021-02-24T19:20:46.919576Z",
     "start_time": "2021-02-24T19:20:46.852277Z"
    }
   },
   "outputs": [],
   "source": [
    "Monday = pd.DataFrame(list_Mon, columns=('Clicks_actual', 'Sale_actual','Sale_pred'))\n",
    "Tuesday = pd.DataFrame(list_Tue, columns=('Clicks_actual', 'Sale_actual','Sale_pred'))\n",
    "Wednesday = pd.DataFrame(list_Wed, columns=('Clicks_actual', 'Sale_actual','Sale_pred'))\n",
    "Thursday = pd.DataFrame(list_Thu, columns=('Clicks_actual', 'Sale_actual','Sale_pred'))\n",
    "Friday = pd.DataFrame(list_Fri, columns=('Clicks_actual', 'Sale_actual','Sale_pred'))\n",
    "Saturday = pd.DataFrame(list_Sat, columns=('Clicks_actual', 'Sale_actual','Sale_pred'))\n",
    "Sunday = pd.DataFrame(list_Sun, columns=('Clicks_actual', 'Sale_actual','Sale_pred'))"
   ]
  },
  {
   "cell_type": "code",
   "execution_count": 89,
   "metadata": {
    "ExecuteTime": {
     "end_time": "2021-02-24T19:28:56.772848Z",
     "start_time": "2021-02-24T19:28:56.713530Z"
    }
   },
   "outputs": [
    {
     "data": {
      "text/html": [
       "<div>\n",
       "<style scoped>\n",
       "    .dataframe tbody tr th:only-of-type {\n",
       "        vertical-align: middle;\n",
       "    }\n",
       "\n",
       "    .dataframe tbody tr th {\n",
       "        vertical-align: top;\n",
       "    }\n",
       "\n",
       "    .dataframe thead th {\n",
       "        text-align: right;\n",
       "    }\n",
       "</style>\n",
       "<table border=\"1\" class=\"dataframe\">\n",
       "  <thead>\n",
       "    <tr style=\"text-align: right;\">\n",
       "      <th></th>\n",
       "      <th>Clicks_actual</th>\n",
       "      <th>Sale_actual</th>\n",
       "      <th>Sale_pred</th>\n",
       "      <th>diff%</th>\n",
       "    </tr>\n",
       "  </thead>\n",
       "  <tbody>\n",
       "    <tr>\n",
       "      <th>0</th>\n",
       "      <td>3508</td>\n",
       "      <td>199</td>\n",
       "      <td>[165.0434868482217]</td>\n",
       "      <td>[-0.17063574448129798]</td>\n",
       "    </tr>\n",
       "    <tr>\n",
       "      <th>1</th>\n",
       "      <td>434</td>\n",
       "      <td>14</td>\n",
       "      <td>[4.754393871733107]</td>\n",
       "      <td>[-0.6604004377333494]</td>\n",
       "    </tr>\n",
       "    <tr>\n",
       "      <th>2</th>\n",
       "      <td>3361</td>\n",
       "      <td>206</td>\n",
       "      <td>[157.3783935926772]</td>\n",
       "      <td>[-0.2360272155695281]</td>\n",
       "    </tr>\n",
       "    <tr>\n",
       "      <th>3</th>\n",
       "      <td>425</td>\n",
       "      <td>17</td>\n",
       "      <td>[4.28510244792426]</td>\n",
       "      <td>[-0.7479351501221023]</td>\n",
       "    </tr>\n",
       "    <tr>\n",
       "      <th>4</th>\n",
       "      <td>2070</td>\n",
       "      <td>116</td>\n",
       "      <td>[90.06114602187473]</td>\n",
       "      <td>[-0.22361081015625228]</td>\n",
       "    </tr>\n",
       "    <tr>\n",
       "      <th>5</th>\n",
       "      <td>351</td>\n",
       "      <td>12</td>\n",
       "      <td>[0.4264840743848488]</td>\n",
       "      <td>[-0.9644596604679293]</td>\n",
       "    </tr>\n",
       "    <tr>\n",
       "      <th>6</th>\n",
       "      <td>2264</td>\n",
       "      <td>102</td>\n",
       "      <td>[100.17698337953212]</td>\n",
       "      <td>[-0.017872711965371397]</td>\n",
       "    </tr>\n",
       "    <tr>\n",
       "      <th>7</th>\n",
       "      <td>466</td>\n",
       "      <td>15</td>\n",
       "      <td>[6.4229856008312325]</td>\n",
       "      <td>[-0.5718009599445845]</td>\n",
       "    </tr>\n",
       "    <tr>\n",
       "      <th>8</th>\n",
       "      <td>2031</td>\n",
       "      <td>87</td>\n",
       "      <td>[88.0275498520364]</td>\n",
       "      <td>[0.011810917839498862]</td>\n",
       "    </tr>\n",
       "    <tr>\n",
       "      <th>9</th>\n",
       "      <td>394</td>\n",
       "      <td>12</td>\n",
       "      <td>[2.668654210360451]</td>\n",
       "      <td>[-0.7776121491366291]</td>\n",
       "    </tr>\n",
       "  </tbody>\n",
       "</table>\n",
       "</div>"
      ],
      "text/plain": [
       "   Clicks_actual  Sale_actual             Sale_pred                    diff%\n",
       "0           3508          199   [165.0434868482217]   [-0.17063574448129798]\n",
       "1            434           14   [4.754393871733107]    [-0.6604004377333494]\n",
       "2           3361          206   [157.3783935926772]    [-0.2360272155695281]\n",
       "3            425           17    [4.28510244792426]    [-0.7479351501221023]\n",
       "4           2070          116   [90.06114602187473]   [-0.22361081015625228]\n",
       "5            351           12  [0.4264840743848488]    [-0.9644596604679293]\n",
       "6           2264          102  [100.17698337953212]  [-0.017872711965371397]\n",
       "7            466           15  [6.4229856008312325]    [-0.5718009599445845]\n",
       "8           2031           87    [88.0275498520364]   [0.011810917839498862]\n",
       "9            394           12   [2.668654210360451]    [-0.7776121491366291]"
      ]
     },
     "execution_count": 89,
     "metadata": {},
     "output_type": "execute_result"
    }
   ],
   "source": [
    "Sunday['diff%']= (Sunday['Sale_pred']-Sunday['Sale_actual'])/Sunday['Sale_actual']\n",
    "Sunday"
   ]
  },
  {
   "cell_type": "code",
   "execution_count": 82,
   "metadata": {
    "ExecuteTime": {
     "end_time": "2021-02-24T19:23:30.756943Z",
     "start_time": "2021-02-24T19:23:30.740996Z"
    }
   },
   "outputs": [],
   "source": []
  },
  {
   "cell_type": "code",
   "execution_count": 238,
   "metadata": {
    "ExecuteTime": {
     "end_time": "2021-02-24T05:45:32.176200Z",
     "start_time": "2021-02-24T05:45:32.154276Z"
    }
   },
   "outputs": [],
   "source": [
    "Monday.to_csv('prediction_Monday.csv')"
   ]
  },
  {
   "cell_type": "code",
   "execution_count": 239,
   "metadata": {
    "ExecuteTime": {
     "end_time": "2021-02-24T05:45:32.801132Z",
     "start_time": "2021-02-24T05:45:32.721394Z"
    }
   },
   "outputs": [],
   "source": [
    "Tuesday.to_csv('prediction_Tuesday.csv')\n",
    "Wednesday.to_csv('prediction_Wednesday.csv')\n",
    "Thursday.to_csv('prediction_Thursday.csv')\n",
    "Friday.to_csv('prediction_Friday.csv')\n",
    "Saturday.to_csv('prediction_Saturday.csv')\n",
    "Sunday.to_csv('prediction_Sunday.csv')"
   ]
  },
  {
   "cell_type": "code",
   "execution_count": null,
   "metadata": {},
   "outputs": [],
   "source": []
  },
  {
   "cell_type": "markdown",
   "metadata": {
    "ExecuteTime": {
     "end_time": "2021-02-24T05:39:40.982546Z",
     "start_time": "2021-02-24T05:39:40.938693Z"
    }
   },
   "source": [
    "## TEST ON 2021-01 DATA "
   ]
  },
  {
   "cell_type": "code",
   "execution_count": 49,
   "metadata": {
    "ExecuteTime": {
     "end_time": "2021-02-24T19:19:12.967866Z",
     "start_time": "2021-02-24T19:19:12.944457Z"
    }
   },
   "outputs": [],
   "source": [
    "test_df = pd.read_csv('CS_Brand Search_2021-Jan.csv')"
   ]
  },
  {
   "cell_type": "code",
   "execution_count": 50,
   "metadata": {
    "ExecuteTime": {
     "end_time": "2021-02-24T19:19:15.551476Z",
     "start_time": "2021-02-24T19:19:15.479716Z"
    }
   },
   "outputs": [
    {
     "data": {
      "text/html": [
       "<div>\n",
       "<style scoped>\n",
       "    .dataframe tbody tr th:only-of-type {\n",
       "        vertical-align: middle;\n",
       "    }\n",
       "\n",
       "    .dataframe tbody tr th {\n",
       "        vertical-align: top;\n",
       "    }\n",
       "\n",
       "    .dataframe thead th {\n",
       "        text-align: right;\n",
       "    }\n",
       "</style>\n",
       "<table border=\"1\" class=\"dataframe\">\n",
       "  <thead>\n",
       "    <tr style=\"text-align: right;\">\n",
       "      <th></th>\n",
       "      <th>Date</th>\n",
       "      <th>Weekday</th>\n",
       "      <th>Cost</th>\n",
       "      <th>Impressions</th>\n",
       "      <th>Clicks</th>\n",
       "      <th>CPC</th>\n",
       "      <th>CTR</th>\n",
       "      <th>Close Rate</th>\n",
       "      <th>Quotes</th>\n",
       "      <th>CPQ</th>\n",
       "      <th>CPS</th>\n",
       "      <th>Sales</th>\n",
       "    </tr>\n",
       "  </thead>\n",
       "  <tbody>\n",
       "    <tr>\n",
       "      <th>0</th>\n",
       "      <td>1/1/2021</td>\n",
       "      <td>5</td>\n",
       "      <td>60410.70</td>\n",
       "      <td>9396</td>\n",
       "      <td>4642</td>\n",
       "      <td>13.013938</td>\n",
       "      <td>0.494040</td>\n",
       "      <td>0.133862</td>\n",
       "      <td>2271</td>\n",
       "      <td>26.600925</td>\n",
       "      <td>198.719408</td>\n",
       "      <td>304</td>\n",
       "    </tr>\n",
       "    <tr>\n",
       "      <th>1</th>\n",
       "      <td>1/1/2021</td>\n",
       "      <td>5</td>\n",
       "      <td>3357.29</td>\n",
       "      <td>2805</td>\n",
       "      <td>479</td>\n",
       "      <td>7.008956</td>\n",
       "      <td>0.170766</td>\n",
       "      <td>0.194631</td>\n",
       "      <td>149</td>\n",
       "      <td>22.532148</td>\n",
       "      <td>115.768621</td>\n",
       "      <td>29</td>\n",
       "    </tr>\n",
       "    <tr>\n",
       "      <th>2</th>\n",
       "      <td>1/2/2021</td>\n",
       "      <td>6</td>\n",
       "      <td>65864.72</td>\n",
       "      <td>10234</td>\n",
       "      <td>4783</td>\n",
       "      <td>13.770587</td>\n",
       "      <td>0.467364</td>\n",
       "      <td>0.137917</td>\n",
       "      <td>2458</td>\n",
       "      <td>26.796062</td>\n",
       "      <td>194.291209</td>\n",
       "      <td>339</td>\n",
       "    </tr>\n",
       "    <tr>\n",
       "      <th>3</th>\n",
       "      <td>1/2/2021</td>\n",
       "      <td>6</td>\n",
       "      <td>3379.46</td>\n",
       "      <td>2943</td>\n",
       "      <td>508</td>\n",
       "      <td>6.652480</td>\n",
       "      <td>0.172613</td>\n",
       "      <td>0.149425</td>\n",
       "      <td>174</td>\n",
       "      <td>19.422184</td>\n",
       "      <td>129.979231</td>\n",
       "      <td>26</td>\n",
       "    </tr>\n",
       "    <tr>\n",
       "      <th>4</th>\n",
       "      <td>1/3/2021</td>\n",
       "      <td>7</td>\n",
       "      <td>42828.02</td>\n",
       "      <td>7750</td>\n",
       "      <td>3508</td>\n",
       "      <td>12.208672</td>\n",
       "      <td>0.452645</td>\n",
       "      <td>0.107451</td>\n",
       "      <td>1852</td>\n",
       "      <td>23.125281</td>\n",
       "      <td>215.216181</td>\n",
       "      <td>199</td>\n",
       "    </tr>\n",
       "    <tr>\n",
       "      <th>...</th>\n",
       "      <td>...</td>\n",
       "      <td>...</td>\n",
       "      <td>...</td>\n",
       "      <td>...</td>\n",
       "      <td>...</td>\n",
       "      <td>...</td>\n",
       "      <td>...</td>\n",
       "      <td>...</td>\n",
       "      <td>...</td>\n",
       "      <td>...</td>\n",
       "      <td>...</td>\n",
       "      <td>...</td>\n",
       "    </tr>\n",
       "    <tr>\n",
       "      <th>57</th>\n",
       "      <td>1/29/2021</td>\n",
       "      <td>5</td>\n",
       "      <td>5342.11</td>\n",
       "      <td>4688</td>\n",
       "      <td>744</td>\n",
       "      <td>7.180255</td>\n",
       "      <td>0.158703</td>\n",
       "      <td>0.000000</td>\n",
       "      <td>0</td>\n",
       "      <td>0.000000</td>\n",
       "      <td>0.000000</td>\n",
       "      <td>25</td>\n",
       "    </tr>\n",
       "    <tr>\n",
       "      <th>58</th>\n",
       "      <td>1/30/2021</td>\n",
       "      <td>6</td>\n",
       "      <td>24717.50</td>\n",
       "      <td>8585</td>\n",
       "      <td>2813</td>\n",
       "      <td>8.786882</td>\n",
       "      <td>0.327665</td>\n",
       "      <td>0.306122</td>\n",
       "      <td>49</td>\n",
       "      <td>504.438775</td>\n",
       "      <td>1647.833333</td>\n",
       "      <td>202</td>\n",
       "    </tr>\n",
       "    <tr>\n",
       "      <th>59</th>\n",
       "      <td>1/30/2021</td>\n",
       "      <td>6</td>\n",
       "      <td>3131.39</td>\n",
       "      <td>3248</td>\n",
       "      <td>487</td>\n",
       "      <td>6.429959</td>\n",
       "      <td>0.149938</td>\n",
       "      <td>0.000000</td>\n",
       "      <td>0</td>\n",
       "      <td>0.000000</td>\n",
       "      <td>0.000000</td>\n",
       "      <td>21</td>\n",
       "    </tr>\n",
       "    <tr>\n",
       "      <th>60</th>\n",
       "      <td>1/31/2021</td>\n",
       "      <td>7</td>\n",
       "      <td>15069.47</td>\n",
       "      <td>6663</td>\n",
       "      <td>2031</td>\n",
       "      <td>7.419729</td>\n",
       "      <td>0.304818</td>\n",
       "      <td>0.111111</td>\n",
       "      <td>18</td>\n",
       "      <td>837.192778</td>\n",
       "      <td>7534.735000</td>\n",
       "      <td>87</td>\n",
       "    </tr>\n",
       "    <tr>\n",
       "      <th>61</th>\n",
       "      <td>1/31/2021</td>\n",
       "      <td>7</td>\n",
       "      <td>2544.88</td>\n",
       "      <td>2734</td>\n",
       "      <td>394</td>\n",
       "      <td>6.459086</td>\n",
       "      <td>0.144111</td>\n",
       "      <td>0.000000</td>\n",
       "      <td>0</td>\n",
       "      <td>0.000000</td>\n",
       "      <td>0.000000</td>\n",
       "      <td>12</td>\n",
       "    </tr>\n",
       "  </tbody>\n",
       "</table>\n",
       "<p>62 rows × 12 columns</p>\n",
       "</div>"
      ],
      "text/plain": [
       "         Date  Weekday      Cost  Impressions   Clicks        CPC       CTR   \\\n",
       "0    1/1/2021        5  60410.70          9396     4642  13.013938  0.494040   \n",
       "1    1/1/2021        5   3357.29          2805      479   7.008956  0.170766   \n",
       "2    1/2/2021        6  65864.72         10234     4783  13.770587  0.467364   \n",
       "3    1/2/2021        6   3379.46          2943      508   6.652480  0.172613   \n",
       "4    1/3/2021        7  42828.02          7750     3508  12.208672  0.452645   \n",
       "..        ...      ...       ...           ...      ...        ...       ...   \n",
       "57  1/29/2021        5   5342.11          4688      744   7.180255  0.158703   \n",
       "58  1/30/2021        6  24717.50          8585     2813   8.786882  0.327665   \n",
       "59  1/30/2021        6   3131.39          3248      487   6.429959  0.149938   \n",
       "60  1/31/2021        7  15069.47          6663     2031   7.419729  0.304818   \n",
       "61  1/31/2021        7   2544.88          2734      394   6.459086  0.144111   \n",
       "\n",
       "    Close Rate   Quotes         CPQ          CPS   Sales   \n",
       "0      0.133862     2271   26.600925   198.719408     304  \n",
       "1      0.194631      149   22.532148   115.768621      29  \n",
       "2      0.137917     2458   26.796062   194.291209     339  \n",
       "3      0.149425      174   19.422184   129.979231      26  \n",
       "4      0.107451     1852   23.125281   215.216181     199  \n",
       "..          ...      ...         ...          ...     ...  \n",
       "57     0.000000        0    0.000000     0.000000      25  \n",
       "58     0.306122       49  504.438775  1647.833333     202  \n",
       "59     0.000000        0    0.000000     0.000000      21  \n",
       "60     0.111111       18  837.192778  7534.735000      87  \n",
       "61     0.000000        0    0.000000     0.000000      12  \n",
       "\n",
       "[62 rows x 12 columns]"
      ]
     },
     "execution_count": 50,
     "metadata": {},
     "output_type": "execute_result"
    }
   ],
   "source": [
    "test_df"
   ]
  },
  {
   "cell_type": "code",
   "execution_count": 51,
   "metadata": {
    "ExecuteTime": {
     "end_time": "2021-02-24T19:19:22.247832Z",
     "start_time": "2021-02-24T19:19:22.203030Z"
    }
   },
   "outputs": [],
   "source": [
    "test_df_Mon = test_df[test_df['Weekday'] == 1]\n",
    "test_df_Tue = test_df[test_df['Weekday'] == 2]\n",
    "test_df_Wed = test_df[test_df['Weekday'] == 3]\n",
    "test_df_Thu = test_df[test_df['Weekday'] == 4]\n",
    "test_df_Fri = test_df[test_df['Weekday'] == 5]\n",
    "test_df_Sat = test_df[test_df['Weekday'] == 6]\n",
    "test_df_Sun = test_df[test_df['Weekday'] == 7]"
   ]
  },
  {
   "cell_type": "code",
   "execution_count": null,
   "metadata": {},
   "outputs": [],
   "source": []
  },
  {
   "cell_type": "code",
   "execution_count": null,
   "metadata": {},
   "outputs": [],
   "source": []
  },
  {
   "cell_type": "code",
   "execution_count": null,
   "metadata": {},
   "outputs": [],
   "source": []
  },
  {
   "cell_type": "code",
   "execution_count": null,
   "metadata": {},
   "outputs": [],
   "source": []
  },
  {
   "cell_type": "code",
   "execution_count": null,
   "metadata": {},
   "outputs": [],
   "source": []
  },
  {
   "cell_type": "code",
   "execution_count": null,
   "metadata": {},
   "outputs": [],
   "source": []
  },
  {
   "cell_type": "code",
   "execution_count": null,
   "metadata": {},
   "outputs": [],
   "source": []
  },
  {
   "cell_type": "code",
   "execution_count": null,
   "metadata": {},
   "outputs": [],
   "source": []
  },
  {
   "cell_type": "code",
   "execution_count": null,
   "metadata": {},
   "outputs": [],
   "source": []
  },
  {
   "cell_type": "code",
   "execution_count": null,
   "metadata": {},
   "outputs": [],
   "source": []
  },
  {
   "cell_type": "code",
   "execution_count": null,
   "metadata": {},
   "outputs": [],
   "source": []
  },
  {
   "cell_type": "code",
   "execution_count": null,
   "metadata": {},
   "outputs": [],
   "source": []
  }
 ],
 "metadata": {
  "kernelspec": {
   "display_name": "Python 3",
   "language": "python",
   "name": "python3"
  },
  "language_info": {
   "codemirror_mode": {
    "name": "ipython",
    "version": 3
   },
   "file_extension": ".py",
   "mimetype": "text/x-python",
   "name": "python",
   "nbconvert_exporter": "python",
   "pygments_lexer": "ipython3",
   "version": "3.8.3"
  },
  "toc": {
   "base_numbering": 1,
   "nav_menu": {},
   "number_sections": true,
   "sideBar": true,
   "skip_h1_title": false,
   "title_cell": "Table of Contents",
   "title_sidebar": "Contents",
   "toc_cell": false,
   "toc_position": {},
   "toc_section_display": true,
   "toc_window_display": false
  },
  "varInspector": {
   "cols": {
    "lenName": 16,
    "lenType": 16,
    "lenVar": 40
   },
   "kernels_config": {
    "python": {
     "delete_cmd_postfix": "",
     "delete_cmd_prefix": "del ",
     "library": "var_list.py",
     "varRefreshCmd": "print(var_dic_list())"
    },
    "r": {
     "delete_cmd_postfix": ") ",
     "delete_cmd_prefix": "rm(",
     "library": "var_list.r",
     "varRefreshCmd": "cat(var_dic_list()) "
    }
   },
   "types_to_exclude": [
    "module",
    "function",
    "builtin_function_or_method",
    "instance",
    "_Feature"
   ],
   "window_display": false
  }
 },
 "nbformat": 4,
 "nbformat_minor": 4
}
